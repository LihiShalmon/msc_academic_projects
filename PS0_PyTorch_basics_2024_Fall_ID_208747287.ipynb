{
  "cells": [
    {
      "cell_type": "markdown",
      "metadata": {
        "id": "n3aXk1o_qRLu"
      },
      "source": [
        "# PyTorch - the Basics!\n",
        "\n",
        "Advanced Learning 2024\n",
        "\n",
        "Lee Carlin"
      ]
    },
    {
      "cell_type": "markdown",
      "metadata": {
        "id": "O88JcDDEeVKl"
      },
      "source": [
        "For SUBMISSION:\n",
        "~~~\n",
        "STUDENT ID: 208747287\n",
        "~~~\n",
        "~~~\n",
        "STUDENT GIT LINK: MISSING\n",
        "~~~\n",
        "In Addition, don't forget to add your ID to the files:\n",
        "`PS0_PyTorch_basics_2024_ID_208747287.ipynb`  \n",
        "`PS0_PyTorch_basics_2024_ID_208747287.html`  "
      ]
    },
    {
      "cell_type": "markdown",
      "metadata": {
        "id": "fCByaAJ1q-Gc"
      },
      "source": [
        "## 1. What is PyTorch?\n",
        "\n",
        "\n",
        "PyTorch is a popular open-source library for machine learning, particularly well-suited for deep learning applications.    \n",
        "Here's a breakdown of its key features:\n",
        "\n",
        "    \n",
        "\n",
        "*   **Deep Learning Framework:**  PyTorch provides tools and functionalities to  build and train complex neural networks.\n",
        "*   **Pythonic Interface:**  Known for its Python-like syntax, PyTorch is considered user-friendly and easy to learn.\n",
        "* **Flexibility:**  PyTorch offers both dynamic computational graphs (eager execution) and static graphs (graph mode) for model development.\n",
        "* **Production Ready:**  PyTorch provides features like TorchScript to transition models from development to production seamlessly.\n",
        "* **Scalability:**  PyTorch supports distributed training, enabling you to leverage multiple CPUs or GPUs to train models faster.\n",
        "* **Rich Ecosystem:**  A growing ecosystem of libraries and tools built on PyTorch expands its capabilities for tasks like computer vision, natural language processing, and model interpretability.\n",
        "\n",
        "\n",
        "\n",
        "\n",
        "    \n",
        "    \n",
        "\n",
        "    \n",
        "\n",
        "    \n",
        "    \n",
        "\n"
      ]
    },
    {
      "cell_type": "markdown",
      "metadata": {
        "id": "Y0NFG56arhsD"
      },
      "source": [
        "We start by importing PyTorch's main objects:"
      ]
    },
    {
      "cell_type": "code",
      "execution_count": 1,
      "metadata": {
        "id": "phCzuWkUqPRk"
      },
      "outputs": [],
      "source": [
        "import torch\n",
        "from torch import nn"
      ]
    },
    {
      "cell_type": "markdown",
      "metadata": {
        "id": "jL-emQP0xtkr"
      },
      "source": [
        "### PyTorch Main Modules"
      ]
    },
    {
      "cell_type": "markdown",
      "metadata": {
        "id": "AKs60PcGucH7"
      },
      "source": [
        "`torch.nn`:\n",
        "\n",
        "In PyTorch, the `torch.nn` module provides the essential building blocks you need to construct and train neural networks. It offers a comprehensive collection of classes and functions that streamline the deep learning development process.  \n",
        "  \n",
        "*Key Components:*  \n",
        "\n",
        "**Modules**:   \n",
        "These are the fundamental units that perform specific operations on data. They can be combined to create complex neural network architectures. Common examples include:   \n",
        "\n",
        "* Linear Layers (nn.Linear): Apply linear transformations (y = xA^T + b) for feeding data forward through the network.\n",
        "* Convolutional Layers (nn.Conv2d): Perform convolutions, especially useful for processing image data.\n",
        "* Activation Layers (nn.ReLU, nn.Sigmoid): Introduce non-linearity into the network, allowing it to learn complex patterns.\n",
        "* Normalization Layers (nn.BatchNorm2d): Normalize inputs to layers for faster and more stable training.\n",
        "* Recurrent Layers (nn.LSTM, nn.GRU): Handle sequential data like text or time series.\n",
        "* Dropout Layers (nn.Dropout): Introduce randomness by randomly dropping out neurons during training to prevent overfitting.\n",
        "* Many More: PyTorch offers a vast selection of modules catering to diverse neural network architectures.\n",
        "\n",
        "**Containers**:   \n",
        "These classes help you organize and structure your modules into hierarchical networks. They include:\n",
        "* nn.Sequential: Stacks modules in a linear sequence, making it easy to define simple neural networks.\n",
        "* nn.ModuleList: Holds other modules in a list, allowing for more flexible network structures.\n",
        "* nn.ModuleDict: Manages sub-modules with dictionary-like access for complex topologies.\n",
        "\n",
        "**Loss Functions:**   \n",
        "Functions that measure the error between the network's predictions and the ground truth labels. These guide the training process by calculating the gradients used to update the network's weights. Common examples include:\n",
        "* nn.CrossEntropyLoss: For multi-class classification problems.\n",
        "* nn.MSELoss: For mean squared error calculations in regression tasks.\n",
        "\n"
      ]
    },
    {
      "cell_type": "code",
      "execution_count": 2,
      "metadata": {
        "id": "Tw5uR0na0s8J"
      },
      "outputs": [],
      "source": [
        "from torch.utils.data import DataLoader\n"
      ]
    },
    {
      "cell_type": "markdown",
      "metadata": {
        "id": "YzHi6U5zvteu"
      },
      "source": [
        "`torch.utils.data.DataLoader`:\n",
        "\n",
        "In PyTorch, `torch.utils.data.DataLoader` is a powerful tool that simplifies how you load and manage data for training your deep learning models. It acts as an iterator, efficiently providing batches of data during the training process.\n",
        "\n",
        "Here's a breakdown of its key functionalities:\n",
        "\n",
        "Data Management Abstraction:\n",
        "\n",
        "    Decouples data loading logic from your model training code, promoting cleaner and more maintainable code.\n",
        "    Handles complexities like batching, shuffling, and multi-processing data loading, freeing you from writing repetitive code.\n",
        "\n",
        "Efficient Batching:\n",
        "\n",
        "    Groups data samples (images, text, etc.) into batches of a specified size (batch_size). Batching improves computational efficiency by utilizing vectorized operations on GPUs.\n",
        "    Provides an optional collate_fn argument that allows you to customize how samples within a batch are combined. This can be useful for tasks like padding sequences to have the same length."
      ]
    },
    {
      "cell_type": "code",
      "execution_count": 3,
      "metadata": {
        "colab": {
          "base_uri": "https://localhost:8080/",
          "height": 35
        },
        "id": "sbHK6GkR0vIH",
        "outputId": "76d78bf9-8a35-48f2-f546-c803b59774a2"
      },
      "outputs": [
        {
          "output_type": "execute_result",
          "data": {
            "text/plain": [
              "'2.5.1+cu124'"
            ],
            "application/vnd.google.colaboratory.intrinsic+json": {
              "type": "string"
            }
          },
          "metadata": {},
          "execution_count": 3
        }
      ],
      "source": [
        "torch.__version__"
      ]
    },
    {
      "cell_type": "markdown",
      "metadata": {
        "id": "Sut-qO6F0x1X"
      },
      "source": [
        "In our course we use PyTorch version >=2.2.1.   \n",
        "`cu121` refers to CUDA 12.1, a software layer that gives direct access to the GPU's virtual instruction set and parallel computational elements for the execution of compute kernels."
      ]
    },
    {
      "cell_type": "markdown",
      "metadata": {
        "id": "HE9DKe-9s2aH"
      },
      "source": [
        "## 2. Tensors\n",
        "\n",
        "In PyTorch, tensors are the fundamental data structure. They are similar to NumPy arrays but with some key advantages for deep learning:\n",
        "\n",
        "* **Multi-dimensional Arrays**: Like NumPy arrays, tensors can have multiple dimensions, making them suitable for representing data like images (2D), videos (3D), or sequences of text (1D).\n",
        "\n",
        "* **Hardware Acceleration**: PyTorch tensors can be moved to and run on GPUs or other hardware accelerators, significantly speeding up computations compared to CPUs for deep learning tasks.\n",
        "\n",
        "* **Automatic Differentiation**:  A core feature in deep learning, automatic differentiation allows PyTorch to calculate gradients efficiently, which is essential for training neural networks.  Regular NumPy arrays don't inherently support this.\n",
        "\n",
        "* **Rich Functionality**: PyTorch offers a variety of operations specifically designed for tensors, making it convenient to manipulate and analyze data for deep learning models.\n",
        "\n",
        "In essence, tensors in PyTorch act as the workhorses for your deep learning models. They store and process the data that gets fed into your network, undergoes computations, and ultimately leads to predictions or outputs.\n"
      ]
    },
    {
      "cell_type": "markdown",
      "metadata": {
        "id": "PrthmFbIfsXR"
      },
      "source": [
        "**PyTorch tensor operations:**\n",
        "\n",
        "PyTorch tensor operations are the fundamental building blocks for working with data in your deep learning models. These operations allow you to manipulate, analyze, and transform tensors in various ways. Here's a breakdown of some common categories:\n",
        "\n",
        "1. Arithmetic Operations:\n",
        "\n",
        "These operations perform element-wise calculations between tensors or a tensor and a scalar value. They include:\n",
        "\n",
        "    Addition (+)\n",
        "    Subtraction (-)\n",
        "    Multiplication (*)\n",
        "    Division (/)\n",
        "    Exponentiation (**)\n",
        "\n",
        "These operations can be used for simple calculations or combined to create more complex expressions.\n",
        "\n",
        "2. Comparison Operations:\n",
        "\n",
        "These operations compare elements between tensors or a tensor and a scalar value, resulting in a tensor of booleans (True or False) indicating the comparison outcome. Examples include:\n",
        "\n",
        "    Equal (==)\n",
        "    Not equal (!=)\n",
        "    Greater than (>)\n",
        "    Less than (<)\n",
        "    Greater than or equal (>=)\n",
        "    Less than or equal (<=)\n",
        "\n",
        "Comparison operations are useful for filtering data or making decisions within your model.\n",
        "\n",
        "3. Broadcasting:\n",
        "\n",
        "A powerful feature in PyTorch, broadcasting allows operations between tensors of different shapes as long as they are compatible. For instance, you can add a scalar value to a tensor, or add a one-dimensional tensor to a two-dimensional tensor (as long as the dimensions match). PyTorch automatically expands the smaller tensor to match the larger one for element-wise operations.\n",
        "\n",
        "4. In-place Operations:\n",
        "\n",
        "Certain operations modify the original tensor they are applied to, denoted by a trailing underscore (_). Examples include:\n",
        "\n",
        "    x.add_(y) (equivalent to x = x + y)\n",
        "    x.sub_(y) (equivalent to x = x - y)\n",
        "    x.mul_(y) (equivalent to x = x * y)\n",
        "\n",
        "These operations can be memory-efficient when modifying existing tensors is desired.\n",
        "\n",
        "5. Linear Algebra Operations:\n",
        "\n",
        "PyTorch provides functions for common linear algebra operations on tensors, including:\n",
        "\n",
        "    torch.matmul(a, b): Matrix multiplication between tensors a and b.\n",
        "    torch.sum(input, dim=None): Sums the elements of a tensor along a specified dimension.\n",
        "    torch.mean(input, dim=None): Computes the mean of the elements of a tensor along a specified dimension.\n",
        "\n",
        "These operations are essential for various deep learning tasks like calculating activation outputs or loss functions.\n",
        "\n",
        "6. Tensor Reshaping and Indexing:\n",
        "\n",
        "PyTorch offers functionalities to manipulate the shape and access specific elements of tensors:\n",
        "\n",
        "    x.view(new_shape): Reshapes the tensor x into a new shape while keeping the total number of elements the same.\n",
        "    x[index]: Accesses specific elements or sub-tensors using indexing syntax (similar to NumPy).\n",
        "\n",
        "Reshaping and indexing are crucial for preparing data for specific layers in your neural network architecture.\n",
        "\n",
        "7. Element-wise Operations:\n",
        "\n",
        "These operations apply a function to each element of a tensor independently. PyTorch provides a rich set of element-wise functions like:\n",
        "\n",
        "    torch.relu(x): Applies the rectified linear unit (ReLU) activation function.\n",
        "    torch.sigmoid(x): Applies the sigmoid activation function.\n",
        "    torch.tanh(x): Applies the hyperbolic tangent (tanh) activation function.\n",
        "\n",
        "Element-wise operations are fundamental for introducing non-linearity and transforming data in deep learning models.\n",
        "\n",
        "8. Random Operations:\n",
        "\n",
        "PyTorch offers functions for generating random tensors or modifying existing ones with randomness:\n",
        "\n",
        "    torch.rand(shape): Generates a random tensor filled with uniformly distributed values between 0 and 1.\n",
        "    torch.randn(shape): Generates a random tensor filled with values from a standard normal distribution.\n",
        "\n",
        "These operations are useful for data augmentation techniques or initializing weights in your network.\n",
        "\n",
        "By understanding and effectively using these PyTorch tensor operations, you can build and manipulate your deep learning models with greater flexibility and control."
      ]
    },
    {
      "cell_type": "markdown",
      "metadata": {
        "id": "H9nYSKhmoAQy"
      },
      "source": [
        "Some examples:"
      ]
    },
    {
      "cell_type": "code",
      "execution_count": 4,
      "metadata": {
        "colab": {
          "base_uri": "https://localhost:8080/"
        },
        "id": "DMm7DspXrWpj",
        "outputId": "9d2cdeb9-f3e4-4251-8fee-67b1a42c0d8d"
      },
      "outputs": [
        {
          "output_type": "stream",
          "name": "stdout",
          "text": [
            "tens: tensor([[1, 2, 3, 4],\n",
            "        [5, 6, 7, 8]])\n",
            "Shape of tensor: torch.Size([2, 4])\n",
            "Datatype of tensor: torch.int64\n",
            "Device tensor is stored on: cpu\n"
          ]
        }
      ],
      "source": [
        "lst_of_lsts = [[1, 2, 3, 4],[5, 6, 7, 8]]\n",
        "tens = torch.tensor(lst_of_lsts)\n",
        "print(f\"tens: {tens}\")\n",
        "print(f\"Shape of tensor: {tens.shape}\")\n",
        "print(f\"Datatype of tensor: {tens.dtype}\")\n",
        "print(f\"Device tensor is stored on: {tens.device}\")\n"
      ]
    },
    {
      "cell_type": "code",
      "execution_count": 5,
      "metadata": {
        "colab": {
          "base_uri": "https://localhost:8080/"
        },
        "id": "cLgpeDPeoDpG",
        "outputId": "b0340065-43d5-4a71-a43a-82ac133fe524"
      },
      "outputs": [
        {
          "output_type": "stream",
          "name": "stdout",
          "text": [
            "Random Tensor: \n",
            " tensor([[[0.5822, 0.7946, 0.0275],\n",
            "         [0.0739, 0.1818, 0.8581]],\n",
            "\n",
            "        [[0.3915, 0.7441, 0.2378],\n",
            "         [0.7229, 0.8382, 0.8896]]]) \n",
            "\n",
            "Ones Tensor: \n",
            " tensor([[[1., 1., 1.],\n",
            "         [1., 1., 1.]],\n",
            "\n",
            "        [[1., 1., 1.],\n",
            "         [1., 1., 1.]]]) \n",
            "\n",
            "Zeros Tensor: \n",
            " tensor([[[0., 0., 0.],\n",
            "         [0., 0., 0.]],\n",
            "\n",
            "        [[0., 0., 0.],\n",
            "         [0., 0., 0.]]])\n"
          ]
        }
      ],
      "source": [
        "shape = (2,2,3)\n",
        "rand_tensor = torch.rand(shape)\n",
        "ones_tensor = torch.ones(shape)\n",
        "zeros_tensor = torch.zeros(shape)\n",
        "\n",
        "print(f\"Random Tensor: \\n {rand_tensor} \\n\")\n",
        "print(f\"Ones Tensor: \\n {ones_tensor} \\n\")\n",
        "print(f\"Zeros Tensor: \\n {zeros_tensor}\")"
      ]
    },
    {
      "cell_type": "code",
      "execution_count": 6,
      "metadata": {
        "colab": {
          "base_uri": "https://localhost:8080/"
        },
        "id": "5ADu57CsoykL",
        "outputId": "d490e65c-cd3e-47da-d99b-b527969f70f9"
      },
      "outputs": [
        {
          "output_type": "stream",
          "name": "stdout",
          "text": [
            "t4.shape: torch.Size([300, 3])\n",
            "t5.shape: torch.Size([100, 9])\n"
          ]
        }
      ],
      "source": [
        "shpe = (100,3)\n",
        "t1 = torch.rand(shpe)\n",
        "t2 = torch.rand(shpe)\n",
        "t3 = torch.rand(shpe)\n",
        "t4=torch.cat([t1,t2,t3],dim=0)\n",
        "print(f\"t4.shape: {t4.shape}\")\n",
        "t5=torch.cat([t1,t2,t3],dim=1)\n",
        "print(f\"t5.shape: {t5.shape}\")"
      ]
    },
    {
      "cell_type": "code",
      "execution_count": 7,
      "metadata": {
        "colab": {
          "base_uri": "https://localhost:8080/"
        },
        "id": "NwV4Fnweo1OT",
        "outputId": "174ee766-1501-403b-ef4b-04a6b7375750"
      },
      "outputs": [
        {
          "output_type": "execute_result",
          "data": {
            "text/plain": [
              "tensor([[ 9.0963,  0.1138,  0.9744,  ..., -2.0680, -0.3788, -0.4878],\n",
              "        [ 0.1138,  8.0335,  0.9340,  ...,  1.7520,  0.3112,  0.0576],\n",
              "        [ 0.9744,  0.9340,  7.4378,  ...,  0.7197,  0.7518, -0.0706],\n",
              "        ...,\n",
              "        [-2.0680,  1.7520,  0.7197,  ...,  7.2311, -0.5973,  0.1434],\n",
              "        [-0.3788,  0.3112,  0.7518,  ..., -0.5973, 10.0253, -0.8958],\n",
              "        [-0.4878,  0.0576, -0.0706,  ...,  0.1434, -0.8958,  9.0753]])"
            ]
          },
          "metadata": {},
          "execution_count": 7
        }
      ],
      "source": [
        "X = torch.rand(100,100)\n",
        "X_cent = X - X.mean(dim=1, keepdim=True)\n",
        "covX = X_cent.T@X_cent\n",
        "covX"
      ]
    },
    {
      "cell_type": "markdown",
      "metadata": {
        "id": "2qKr9lixtGgO"
      },
      "source": [
        "## Data & Handling"
      ]
    },
    {
      "cell_type": "markdown",
      "metadata": {
        "id": "9TJNXJdfuHxH"
      },
      "source": [
        "### PyTorch Datasets"
      ]
    },
    {
      "cell_type": "markdown",
      "metadata": {
        "id": "YZEnT7gHzWUp"
      },
      "source": [
        "Deep networks are versatile tools that can be adapted to various data types by\n",
        "leveraging appropriate pre-processing techniques and network architectures.\n",
        "PyTorch, like other deep learning libraries, can handle a wide array of data:\n",
        "  \n",
        "\n",
        "\n",
        "* images\n",
        "* audio\n",
        "* text data\n",
        "* tabluar (numerical, categorical, mixed)\n",
        "* multimodal Data\n",
        "* other\n",
        "\n"
      ]
    },
    {
      "cell_type": "markdown",
      "metadata": {
        "id": "GbZ5lmtzuKlb"
      },
      "source": [
        "PyTorch also offers built-in vision specific datasets as part of the `torchvision.datasets` [module](https://pytorch.org/vision/stable/datasets.html):"
      ]
    },
    {
      "cell_type": "code",
      "execution_count": 8,
      "metadata": {
        "id": "9kGSr-D-y42B"
      },
      "outputs": [],
      "source": [
        "from torchvision import datasets"
      ]
    },
    {
      "cell_type": "code",
      "execution_count": 9,
      "metadata": {
        "colab": {
          "base_uri": "https://localhost:8080/"
        },
        "id": "ML5of6dVzEAY",
        "outputId": "9bd4db07-a6c4-4303-874f-aa41d58a52d6"
      },
      "outputs": [
        {
          "output_type": "execute_result",
          "data": {
            "text/plain": [
              "['CIFAR10',\n",
              " 'CIFAR100',\n",
              " 'CLEVRClassification',\n",
              " 'CREStereo',\n",
              " 'Caltech101',\n",
              " 'Caltech256',\n",
              " 'CarlaStereo',\n",
              " 'CelebA',\n",
              " 'Cityscapes',\n",
              " 'CocoCaptions',\n",
              " 'CocoDetection',\n",
              " 'Country211',\n",
              " 'DTD',\n",
              " 'DatasetFolder',\n",
              " 'EMNIST',\n",
              " 'ETH3DStereo',\n",
              " 'EuroSAT',\n",
              " 'FER2013',\n",
              " 'FGVCAircraft',\n",
              " 'FakeData',\n",
              " 'FallingThingsStereo',\n",
              " 'FashionMNIST',\n",
              " 'Flickr30k',\n",
              " 'Flickr8k',\n",
              " 'Flowers102',\n",
              " 'FlyingChairs',\n",
              " 'FlyingThings3D',\n",
              " 'Food101',\n",
              " 'GTSRB',\n",
              " 'HD1K',\n",
              " 'HMDB51',\n",
              " 'INaturalist',\n",
              " 'ImageFolder',\n",
              " 'ImageNet',\n",
              " 'Imagenette',\n",
              " 'InStereo2k',\n",
              " 'KMNIST',\n",
              " 'Kinetics',\n",
              " 'Kitti',\n",
              " 'Kitti2012Stereo',\n",
              " 'Kitti2015Stereo',\n",
              " 'KittiFlow',\n",
              " 'LFWPairs',\n",
              " 'LFWPeople',\n",
              " 'LSUN',\n",
              " 'LSUNClass',\n",
              " 'MNIST',\n",
              " 'Middlebury2014Stereo',\n",
              " 'MovingMNIST',\n",
              " 'Omniglot',\n",
              " 'OxfordIIITPet',\n",
              " 'PCAM',\n",
              " 'PhotoTour',\n",
              " 'Places365',\n",
              " 'QMNIST',\n",
              " 'RenderedSST2',\n",
              " 'SBDataset',\n",
              " 'SBU',\n",
              " 'SEMEION',\n",
              " 'STL10',\n",
              " 'SUN397',\n",
              " 'SVHN',\n",
              " 'SceneFlowStereo',\n",
              " 'Sintel',\n",
              " 'SintelStereo',\n",
              " 'StanfordCars',\n",
              " 'UCF101',\n",
              " 'USPS',\n",
              " 'VOCDetection',\n",
              " 'VOCSegmentation',\n",
              " 'VisionDataset',\n",
              " 'WIDERFace',\n",
              " '__all__',\n",
              " '__builtins__',\n",
              " '__cached__',\n",
              " '__doc__',\n",
              " '__file__',\n",
              " '__getattr__',\n",
              " '__loader__',\n",
              " '__name__',\n",
              " '__package__',\n",
              " '__path__',\n",
              " '__spec__',\n",
              " '_optical_flow',\n",
              " '_stereo_matching',\n",
              " 'caltech',\n",
              " 'celeba',\n",
              " 'cifar',\n",
              " 'cityscapes',\n",
              " 'clevr',\n",
              " 'coco',\n",
              " 'country211',\n",
              " 'dtd',\n",
              " 'eurosat',\n",
              " 'fakedata',\n",
              " 'fer2013',\n",
              " 'fgvc_aircraft',\n",
              " 'flickr',\n",
              " 'flowers102',\n",
              " 'folder',\n",
              " 'food101',\n",
              " 'gtsrb',\n",
              " 'hmdb51',\n",
              " 'imagenet',\n",
              " 'imagenette',\n",
              " 'inaturalist',\n",
              " 'kinetics',\n",
              " 'kitti',\n",
              " 'lfw',\n",
              " 'lsun',\n",
              " 'mnist',\n",
              " 'moving_mnist',\n",
              " 'omniglot',\n",
              " 'oxford_iiit_pet',\n",
              " 'pcam',\n",
              " 'phototour',\n",
              " 'places365',\n",
              " 'rendered_sst2',\n",
              " 'sbd',\n",
              " 'sbu',\n",
              " 'semeion',\n",
              " 'stanford_cars',\n",
              " 'stl10',\n",
              " 'sun397',\n",
              " 'svhn',\n",
              " 'ucf101',\n",
              " 'usps',\n",
              " 'utils',\n",
              " 'video_utils',\n",
              " 'vision',\n",
              " 'voc',\n",
              " 'widerface']"
            ]
          },
          "metadata": {},
          "execution_count": 9
        }
      ],
      "source": [
        "dir(datasets)"
      ]
    },
    {
      "cell_type": "markdown",
      "metadata": {
        "id": "6CCQWfKR0etj"
      },
      "source": []
    },
    {
      "cell_type": "code",
      "execution_count": 10,
      "metadata": {
        "colab": {
          "base_uri": "https://localhost:8080/"
        },
        "id": "WQjlYm3I3bIj",
        "outputId": "68151779-127e-4d36-9b95-26f564751ea3"
      },
      "outputs": [
        {
          "output_type": "stream",
          "name": "stdout",
          "text": [
            "Downloading http://fashion-mnist.s3-website.eu-central-1.amazonaws.com/train-images-idx3-ubyte.gz\n",
            "Downloading http://fashion-mnist.s3-website.eu-central-1.amazonaws.com/train-images-idx3-ubyte.gz to data/FashionMNIST/raw/train-images-idx3-ubyte.gz\n"
          ]
        },
        {
          "output_type": "stream",
          "name": "stderr",
          "text": [
            "100%|██████████| 26.4M/26.4M [00:01<00:00, 21.8MB/s]\n"
          ]
        },
        {
          "output_type": "stream",
          "name": "stdout",
          "text": [
            "Extracting data/FashionMNIST/raw/train-images-idx3-ubyte.gz to data/FashionMNIST/raw\n",
            "\n",
            "Downloading http://fashion-mnist.s3-website.eu-central-1.amazonaws.com/train-labels-idx1-ubyte.gz\n",
            "Downloading http://fashion-mnist.s3-website.eu-central-1.amazonaws.com/train-labels-idx1-ubyte.gz to data/FashionMNIST/raw/train-labels-idx1-ubyte.gz\n"
          ]
        },
        {
          "output_type": "stream",
          "name": "stderr",
          "text": [
            "100%|██████████| 29.5k/29.5k [00:00<00:00, 343kB/s]\n"
          ]
        },
        {
          "output_type": "stream",
          "name": "stdout",
          "text": [
            "Extracting data/FashionMNIST/raw/train-labels-idx1-ubyte.gz to data/FashionMNIST/raw\n",
            "\n",
            "Downloading http://fashion-mnist.s3-website.eu-central-1.amazonaws.com/t10k-images-idx3-ubyte.gz\n",
            "Downloading http://fashion-mnist.s3-website.eu-central-1.amazonaws.com/t10k-images-idx3-ubyte.gz to data/FashionMNIST/raw/t10k-images-idx3-ubyte.gz\n"
          ]
        },
        {
          "output_type": "stream",
          "name": "stderr",
          "text": [
            "100%|██████████| 4.42M/4.42M [00:00<00:00, 6.26MB/s]\n"
          ]
        },
        {
          "output_type": "stream",
          "name": "stdout",
          "text": [
            "Extracting data/FashionMNIST/raw/t10k-images-idx3-ubyte.gz to data/FashionMNIST/raw\n",
            "\n",
            "Downloading http://fashion-mnist.s3-website.eu-central-1.amazonaws.com/t10k-labels-idx1-ubyte.gz\n",
            "Downloading http://fashion-mnist.s3-website.eu-central-1.amazonaws.com/t10k-labels-idx1-ubyte.gz to data/FashionMNIST/raw/t10k-labels-idx1-ubyte.gz\n"
          ]
        },
        {
          "output_type": "stream",
          "name": "stderr",
          "text": [
            "100%|██████████| 5.15k/5.15k [00:00<00:00, 6.04MB/s]"
          ]
        },
        {
          "output_type": "stream",
          "name": "stdout",
          "text": [
            "Extracting data/FashionMNIST/raw/t10k-labels-idx1-ubyte.gz to data/FashionMNIST/raw\n",
            "\n"
          ]
        },
        {
          "output_type": "stream",
          "name": "stderr",
          "text": [
            "\n"
          ]
        },
        {
          "output_type": "execute_result",
          "data": {
            "text/plain": [
              "Dataset FashionMNIST\n",
              "    Number of datapoints: 60000\n",
              "    Root location: data\n",
              "    Split: Train\n",
              "    StandardTransform\n",
              "Transform: ToTensor()"
            ]
          },
          "metadata": {},
          "execution_count": 10
        }
      ],
      "source": [
        "from torchvision.transforms import ToTensor\n",
        "train_source = training_data = datasets.FashionMNIST(\n",
        "    root=\"data\",\n",
        "    train=True,\n",
        "    download=True,\n",
        "    transform=ToTensor()\n",
        ")\n",
        "train_source"
      ]
    },
    {
      "cell_type": "code",
      "execution_count": 11,
      "metadata": {
        "colab": {
          "base_uri": "https://localhost:8080/",
          "height": 204
        },
        "id": "uq7YInbH3z4K",
        "outputId": "4d4a43ca-ae6b-4e08-97eb-9dee96de3cc3"
      },
      "outputs": [
        {
          "output_type": "execute_result",
          "data": {
            "text/plain": [
              "torchvision.datasets.mnist.FashionMNIST"
            ],
            "text/html": [
              "<div style=\"max-width:800px; border: 1px solid var(--colab-border-color);\"><style>\n",
              "      pre.function-repr-contents {\n",
              "        overflow-x: auto;\n",
              "        padding: 8px 12px;\n",
              "        max-height: 500px;\n",
              "      }\n",
              "\n",
              "      pre.function-repr-contents.function-repr-contents-collapsed {\n",
              "        cursor: pointer;\n",
              "        max-height: 100px;\n",
              "      }\n",
              "    </style>\n",
              "    <pre style=\"white-space: initial; background:\n",
              "         var(--colab-secondary-surface-color); padding: 8px 12px;\n",
              "         border-bottom: 1px solid var(--colab-border-color);\"><b>torchvision.datasets.mnist.FashionMNIST</b><br/>def __init__(root: Union[str, Path], train: bool=True, transform: Optional[Callable]=None, target_transform: Optional[Callable]=None, download: bool=False) -&gt; None</pre><pre class=\"function-repr-contents function-repr-contents-collapsed\" style=\"\"><a class=\"filepath\" style=\"display:none\" href=\"#\">/usr/local/lib/python3.11/dist-packages/torchvision/datasets/mnist.py</a>`Fashion-MNIST &lt;https://github.com/zalandoresearch/fashion-mnist&gt;`_ Dataset.\n",
              "\n",
              "Args:\n",
              "    root (str or ``pathlib.Path``): Root directory of dataset where ``FashionMNIST/raw/train-images-idx3-ubyte``\n",
              "        and  ``FashionMNIST/raw/t10k-images-idx3-ubyte`` exist.\n",
              "    train (bool, optional): If True, creates dataset from ``train-images-idx3-ubyte``,\n",
              "        otherwise from ``t10k-images-idx3-ubyte``.\n",
              "    download (bool, optional): If True, downloads the dataset from the internet and\n",
              "        puts it in root directory. If dataset is already downloaded, it is not\n",
              "        downloaded again.\n",
              "    transform (callable, optional): A function/transform that  takes in a PIL image\n",
              "        and returns a transformed version. E.g, ``transforms.RandomCrop``\n",
              "    target_transform (callable, optional): A function/transform that takes in the\n",
              "        target and transforms it.</pre>\n",
              "      <script>\n",
              "      if (google.colab.kernel.accessAllowed && google.colab.files && google.colab.files.view) {\n",
              "        for (const element of document.querySelectorAll('.filepath')) {\n",
              "          element.style.display = 'block'\n",
              "          element.onclick = (event) => {\n",
              "            event.preventDefault();\n",
              "            event.stopPropagation();\n",
              "            google.colab.files.view(element.textContent, 203);\n",
              "          };\n",
              "        }\n",
              "      }\n",
              "      for (const element of document.querySelectorAll('.function-repr-contents')) {\n",
              "        element.onclick = (event) => {\n",
              "          event.preventDefault();\n",
              "          event.stopPropagation();\n",
              "          element.classList.toggle('function-repr-contents-collapsed');\n",
              "        };\n",
              "      }\n",
              "      </script>\n",
              "      </div>"
            ]
          },
          "metadata": {},
          "execution_count": 11
        }
      ],
      "source": [
        "type(train_source)"
      ]
    },
    {
      "cell_type": "code",
      "execution_count": 12,
      "metadata": {
        "colab": {
          "base_uri": "https://localhost:8080/"
        },
        "id": "CI0VZXWe5oL_",
        "outputId": "4115f020-784f-4822-e574-95361c9126a3"
      },
      "outputs": [
        {
          "output_type": "stream",
          "name": "stdout",
          "text": [
            "the shape of the data: torch.Size([60000, 28, 28])\n"
          ]
        }
      ],
      "source": [
        "print(f\"the shape of the data: {train_source.data.shape}\")"
      ]
    },
    {
      "cell_type": "markdown",
      "metadata": {
        "id": "QvCx0iKV5uPl"
      },
      "source": [
        "We can visualize the data using matplotlib:"
      ]
    },
    {
      "cell_type": "code",
      "execution_count": 13,
      "metadata": {
        "id": "UpM3phXL41eL"
      },
      "outputs": [],
      "source": [
        "import matplotlib.pyplot as plt"
      ]
    },
    {
      "cell_type": "code",
      "execution_count": 14,
      "metadata": {
        "colab": {
          "base_uri": "https://localhost:8080/",
          "height": 502
        },
        "id": "UGVwuqTP4w6B",
        "outputId": "2186cdf8-95c2-4598-abd2-c7be874f09e8"
      },
      "outputs": [
        {
          "output_type": "display_data",
          "data": {
            "text/plain": [
              "<Figure size 800x800 with 10 Axes>"
            ],
            "image/png": "[encoded data removed]"
          },
          "metadata": {}
        }
      ],
      "source": [
        "labels_map = {\n",
        "    0: \"T-Shirt\",\n",
        "    1: \"Trouser\",\n",
        "    2: \"Pullover\",\n",
        "    3: \"Dress\",\n",
        "    4: \"Coat\",\n",
        "    5: \"Sandal\",\n",
        "    6: \"Shirt\",\n",
        "    7: \"Sneaker\",\n",
        "    8: \"Bag\",\n",
        "    9: \"Ankle Boot\",\n",
        "}\n",
        "figure = plt.figure(figsize=(8, 8))\n",
        "cols, rows = 5, 2\n",
        "for i in range(1, cols * rows + 1):\n",
        "    sample_idx = torch.randint(len(train_source), size=(1,)).item()\n",
        "    img, label = train_source[sample_idx]\n",
        "    figure.add_subplot(rows, cols, i)\n",
        "    plt.title(labels_map[label])\n",
        "    plt.axis(\"off\")\n",
        "    plt.imshow(img.squeeze(), cmap=\"gray\")\n",
        "plt.show()"
      ]
    },
    {
      "cell_type": "markdown",
      "metadata": {
        "id": "WUArfaqcuF9p"
      },
      "source": [
        "### DataLoader"
      ]
    },
    {
      "cell_type": "markdown",
      "metadata": {
        "id": "ptoV6URJtMyg"
      },
      "source": [
        "As mentioned above, the `torch.utils.data.DataLoader` is responsible for handling data during the deep learning model training.\n",
        "\n",
        "Key Parameters:\n",
        "\n",
        "* dataset (Dataset): The PyTorch dataset you want to load data from (your custom class representing the data and how to access samples and labels).\n",
        "* batch_size (int, optional): The number of samples in a batch (default: 1).\n",
        "* shuffle (bool, optional): Whether to shuffle the data at the beginning of each epoch (default: False).\n",
        "* sampler (Sampler, optional): A custom sampler object for controlling data loading order (default: None).\n",
        "* collate_fn (callable, optional): A function to customize how samples within a batch are combined (default: None). Useful for padding sequences.\n",
        "* pin_memory=True (bool, optional): If using a GPU, pin fetched data tensors in pinned memory for faster transfer (default: False)."
      ]
    },
    {
      "cell_type": "code",
      "execution_count": 15,
      "metadata": {
        "colab": {
          "base_uri": "https://localhost:8080/",
          "height": 274
        },
        "id": "4XyudTrorICU",
        "outputId": "2b6293c5-dc0d-473c-b203-7360df0430d3"
      },
      "outputs": [
        {
          "output_type": "execute_result",
          "data": {
            "text/plain": [
              "torch.utils.data.dataloader.DataLoader"
            ],
            "text/html": [
              "<div style=\"max-width:800px; border: 1px solid var(--colab-border-color);\"><style>\n",
              "      pre.function-repr-contents {\n",
              "        overflow-x: auto;\n",
              "        padding: 8px 12px;\n",
              "        max-height: 500px;\n",
              "      }\n",
              "\n",
              "      pre.function-repr-contents.function-repr-contents-collapsed {\n",
              "        cursor: pointer;\n",
              "        max-height: 100px;\n",
              "      }\n",
              "    </style>\n",
              "    <pre style=\"white-space: initial; background:\n",
              "         var(--colab-secondary-surface-color); padding: 8px 12px;\n",
              "         border-bottom: 1px solid var(--colab-border-color);\"><b>torch.utils.data.dataloader.DataLoader</b><br/>def __init__(dataset: Dataset[_T_co], batch_size: Optional[int]=1, shuffle: Optional[bool]=None, sampler: Union[Sampler, Iterable, None]=None, batch_sampler: Union[Sampler[List], Iterable[List], None]=None, num_workers: int=0, collate_fn: Optional[_collate_fn_t]=None, pin_memory: bool=False, drop_last: bool=False, timeout: float=0, worker_init_fn: Optional[_worker_init_fn_t]=None, multiprocessing_context=None, generator=None, *, prefetch_factor: Optional[int]=None, persistent_workers: bool=False, pin_memory_device: str=&#x27;&#x27;)</pre><pre class=\"function-repr-contents function-repr-contents-collapsed\" style=\"\"><a class=\"filepath\" style=\"display:none\" href=\"#\">/usr/local/lib/python3.11/dist-packages/torch/utils/data/dataloader.py</a>Data loader combines a dataset and a sampler, and provides an iterable over the given dataset.\n",
              "\n",
              "The :class:`~torch.utils.data.DataLoader` supports both map-style and\n",
              "iterable-style datasets with single- or multi-process loading, customizing\n",
              "loading order and optional automatic batching (collation) and memory pinning.\n",
              "\n",
              "See :py:mod:`torch.utils.data` documentation page for more details.\n",
              "\n",
              "Args:\n",
              "    dataset (Dataset): dataset from which to load the data.\n",
              "    batch_size (int, optional): how many samples per batch to load\n",
              "        (default: ``1``).\n",
              "    shuffle (bool, optional): set to ``True`` to have the data reshuffled\n",
              "        at every epoch (default: ``False``).\n",
              "    sampler (Sampler or Iterable, optional): defines the strategy to draw\n",
              "        samples from the dataset. Can be any ``Iterable`` with ``__len__``\n",
              "        implemented. If specified, :attr:`shuffle` must not be specified.\n",
              "    batch_sampler (Sampler or Iterable, optional): like :attr:`sampler`, but\n",
              "        returns a batch of indices at a time. Mutually exclusive with\n",
              "        :attr:`batch_size`, :attr:`shuffle`, :attr:`sampler`,\n",
              "        and :attr:`drop_last`.\n",
              "    num_workers (int, optional): how many subprocesses to use for data\n",
              "        loading. ``0`` means that the data will be loaded in the main process.\n",
              "        (default: ``0``)\n",
              "    collate_fn (Callable, optional): merges a list of samples to form a\n",
              "        mini-batch of Tensor(s).  Used when using batched loading from a\n",
              "        map-style dataset.\n",
              "    pin_memory (bool, optional): If ``True``, the data loader will copy Tensors\n",
              "        into device/CUDA pinned memory before returning them.  If your data elements\n",
              "        are a custom type, or your :attr:`collate_fn` returns a batch that is a custom type,\n",
              "        see the example below.\n",
              "    drop_last (bool, optional): set to ``True`` to drop the last incomplete batch,\n",
              "        if the dataset size is not divisible by the batch size. If ``False`` and\n",
              "        the size of dataset is not divisible by the batch size, then the last batch\n",
              "        will be smaller. (default: ``False``)\n",
              "    timeout (numeric, optional): if positive, the timeout value for collecting a batch\n",
              "        from workers. Should always be non-negative. (default: ``0``)\n",
              "    worker_init_fn (Callable, optional): If not ``None``, this will be called on each\n",
              "        worker subprocess with the worker id (an int in ``[0, num_workers - 1]``) as\n",
              "        input, after seeding and before data loading. (default: ``None``)\n",
              "    multiprocessing_context (str or multiprocessing.context.BaseContext, optional): If\n",
              "        ``None``, the default `multiprocessing context`_ of your operating system will\n",
              "        be used. (default: ``None``)\n",
              "    generator (torch.Generator, optional): If not ``None``, this RNG will be used\n",
              "        by RandomSampler to generate random indexes and multiprocessing to generate\n",
              "        ``base_seed`` for workers. (default: ``None``)\n",
              "    prefetch_factor (int, optional, keyword-only arg): Number of batches loaded\n",
              "        in advance by each worker. ``2`` means there will be a total of\n",
              "        2 * num_workers batches prefetched across all workers. (default value depends\n",
              "        on the set value for num_workers. If value of num_workers=0 default is ``None``.\n",
              "        Otherwise, if value of ``num_workers &gt; 0`` default is ``2``).\n",
              "    persistent_workers (bool, optional): If ``True``, the data loader will not shut down\n",
              "        the worker processes after a dataset has been consumed once. This allows to\n",
              "        maintain the workers `Dataset` instances alive. (default: ``False``)\n",
              "    pin_memory_device (str, optional): the device to :attr:`pin_memory` to if ``pin_memory`` is\n",
              "        ``True``.\n",
              "\n",
              "\n",
              ".. warning:: If the ``spawn`` start method is used, :attr:`worker_init_fn`\n",
              "             cannot be an unpicklable object, e.g., a lambda function. See\n",
              "             :ref:`multiprocessing-best-practices` on more details related\n",
              "             to multiprocessing in PyTorch.\n",
              "\n",
              ".. warning:: ``len(dataloader)`` heuristic is based on the length of the sampler used.\n",
              "             When :attr:`dataset` is an :class:`~torch.utils.data.IterableDataset`,\n",
              "             it instead returns an estimate based on ``len(dataset) / batch_size``, with proper\n",
              "             rounding depending on :attr:`drop_last`, regardless of multi-process loading\n",
              "             configurations. This represents the best guess PyTorch can make because PyTorch\n",
              "             trusts user :attr:`dataset` code in correctly handling multi-process\n",
              "             loading to avoid duplicate data.\n",
              "\n",
              "             However, if sharding results in multiple workers having incomplete last batches,\n",
              "             this estimate can still be inaccurate, because (1) an otherwise complete batch can\n",
              "             be broken into multiple ones and (2) more than one batch worth of samples can be\n",
              "             dropped when :attr:`drop_last` is set. Unfortunately, PyTorch can not detect such\n",
              "             cases in general.\n",
              "\n",
              "             See `Dataset Types`_ for more details on these two types of datasets and how\n",
              "             :class:`~torch.utils.data.IterableDataset` interacts with\n",
              "             `Multi-process data loading`_.\n",
              "\n",
              ".. warning:: See :ref:`reproducibility`, and :ref:`dataloader-workers-random-seed`, and\n",
              "             :ref:`data-loading-randomness` notes for random seed related questions.\n",
              "\n",
              ".. _multiprocessing context:\n",
              "    https://docs.python.org/3/library/multiprocessing.html#contexts-and-start-methods</pre>\n",
              "      <script>\n",
              "      if (google.colab.kernel.accessAllowed && google.colab.files && google.colab.files.view) {\n",
              "        for (const element of document.querySelectorAll('.filepath')) {\n",
              "          element.style.display = 'block'\n",
              "          element.onclick = (event) => {\n",
              "            event.preventDefault();\n",
              "            event.stopPropagation();\n",
              "            google.colab.files.view(element.textContent, 130);\n",
              "          };\n",
              "        }\n",
              "      }\n",
              "      for (const element of document.querySelectorAll('.function-repr-contents')) {\n",
              "        element.onclick = (event) => {\n",
              "          event.preventDefault();\n",
              "          event.stopPropagation();\n",
              "          element.classList.toggle('function-repr-contents-collapsed');\n",
              "        };\n",
              "      }\n",
              "      </script>\n",
              "      </div>"
            ]
          },
          "metadata": {},
          "execution_count": 15
        }
      ],
      "source": [
        "train = DataLoader(train_source, batch_size=64, shuffle=True)\n",
        "type(train)"
      ]
    },
    {
      "cell_type": "markdown",
      "metadata": {
        "id": "FdKFXjkH6NPg"
      },
      "source": [
        "\n",
        "\n",
        "> The Dataset retrieves our dataset’s features and labels one sample at a time. While training a model, we typically want to pass samples in “minibatches”, reshuffle the data at every epoch to reduce model overfitting, and use Python’s multiprocessing to speed up data retrieval.\n",
        "\n"
      ]
    },
    {
      "cell_type": "code",
      "execution_count": 16,
      "metadata": {
        "colab": {
          "base_uri": "https://localhost:8080/"
        },
        "id": "vBYbBhat6DBf",
        "outputId": "9cc638d8-d066-4170-9df2-494315629785"
      },
      "outputs": [
        {
          "output_type": "stream",
          "name": "stdout",
          "text": [
            "batch shape: torch.Size([64, 1, 28, 28])\n",
            "batch shape: torch.Size([64, 1, 28, 28])\n",
            "batch shape: torch.Size([64, 1, 28, 28])\n",
            "batch shape: torch.Size([64, 1, 28, 28])\n",
            "batch shape: torch.Size([64, 1, 28, 28])\n"
          ]
        }
      ],
      "source": [
        "for i in range(5):\n",
        "  btch = next(iter(train))\n",
        "  print(f\"batch shape: {btch[0].shape}\")"
      ]
    },
    {
      "cell_type": "markdown",
      "metadata": {
        "id": "KOok4gOvaBuW"
      },
      "source": [
        "## Practice Questions"
      ]
    },
    {
      "cell_type": "markdown",
      "metadata": {
        "id": "B3Fby9XPaJjR"
      },
      "source": [
        "Produce the following tensors:  \n",
        "\n",
        "1. Create a tensor from the list `[1, 2, 3]`\n",
        "2. Create a tensor from a NumPy array of shape (50,10)\n",
        "3. Specify a data type and device option for a tensor with `[7, 8, 9]`, `[.5,0,.7]`\n",
        "4. Create a zero tensor of size (3, 4)\n",
        "5. Create a ones tensor of size (2, 2, 2) with dtype float\n",
        "6. Create a tensor of size (5, 5) with random values from a normal distribution\n",
        "7. Create a new tensor by cloning an existing tensor\n",
        "8. Create a new tensor by reshaping an existing tensor\n",
        "9. Create a new tensor by concatenating two existing tensors\n",
        "10.  Perform operations with different data types"
      ]
    },
    {
      "cell_type": "code",
      "execution_count": 19,
      "metadata": {
        "id": "ASqrBB6KeImk"
      },
      "outputs": [],
      "source": [
        "import torch\n",
        "import numpy as np\n",
        "\n",
        "# 1. Create a tensor from the list [1, 2, 3]\n",
        "tensor_from_list = torch.tensor([1, 2, 3])\n",
        "\n",
        "# 2. Create a tensor from a NumPy array of shape (50, 10)\n",
        "numpy_array = np.random.rand(50, 10)\n",
        "tensor_from_numpy = torch.tensor(numpy_array)\n",
        "\n",
        "# 3. Specify a data type and device option for tensors\n",
        "tensor_with_dtype_device_1 = torch.tensor([7, 8, 9], dtype=torch.int32, device='cpu')\n",
        "tensor_with_dtype_device_2 = torch.tensor([0.5, 0.0, 0.7], dtype=torch.float32, device='cpu')\n",
        "\n",
        "# 4. Create a zero tensor of size (3, 4)\n",
        "zero_tensor = torch.zeros((3, 4))\n",
        "\n",
        "# 5. Create a ones tensor of size (2, 2, 2) with dtype float\n",
        "ones_tensor = torch.ones((2, 2, 2), dtype=torch.float32)\n",
        "\n",
        "# 6. Create a tensor of size (5, 5) with random values from a normal distribution\n",
        "random_normal_tensor = torch.randn((5, 5))\n",
        "\n",
        "# 7. Create a new tensor by cloning an existing tensor\n",
        "cloned_tensor = tensor_from_list.clone()\n",
        "\n",
        "# 8. Create a new tensor by reshaping an existing tensor\n",
        "reshaped_tensor = tensor_from_numpy.view(-1, 5)\n",
        "\n",
        "# 9. Create a new tensor by concatenating two existing tensors\n",
        "tensor_from_list2 = torch.tensor([5,6,7])\n",
        "\n",
        "concatenated_tensor = torch.cat((tensor_from_list, tensor_from_list2), dim=0)  # Concatenate along dim 0\n",
        "\n",
        "# 10. Perform operations with different data types\n",
        "tensor_int = torch.tensor([1, 2, 3], dtype=torch.int32)\n",
        "tensor_float = torch.tensor([0.1, 0.2, 0.3], dtype=torch.float32)\n",
        "mixed_dtype_result = tensor_int.float() + tensor_float\n"
      ]
    },
    {
      "cell_type": "code",
      "execution_count": 20,
      "metadata": {
        "colab": {
          "base_uri": "https://localhost:8080/"
        },
        "id": "APQuh9jT7WFt",
        "outputId": "06e16e00-8098-44e1-af35-b67aab9e7573"
      },
      "outputs": [
        {
          "output_type": "stream",
          "name": "stdout",
          "text": [
            "Tensor from list: tensor([1, 2, 3])\n",
            "Tensor from NumPy array: torch.Size([50, 10])\n",
            "Tensor with dtype and device (int): tensor([7, 8, 9], dtype=torch.int32)\n",
            "Tensor with dtype and device (float): tensor([0.5000, 0.0000, 0.7000])\n",
            "Zero tensor: tensor([[0., 0., 0., 0.],\n",
            "        [0., 0., 0., 0.],\n",
            "        [0., 0., 0., 0.]])\n",
            "Ones tensor: tensor([[[1., 1.],\n",
            "         [1., 1.]],\n",
            "\n",
            "        [[1., 1.],\n",
            "         [1., 1.]]])\n",
            "Random normal tensor: tensor([[ 1.9116e+00,  1.2411e-01,  4.3962e-01, -3.7781e-02, -1.1294e+00],\n",
            "        [-1.3540e-03, -1.4606e+00, -1.1650e-01,  8.8107e-01,  5.4937e-01],\n",
            "        [-1.4245e-01,  5.0907e-01,  5.4793e-01, -3.6571e-01,  4.0541e-01],\n",
            "        [ 7.0042e-01,  6.4933e-01,  4.9172e-01,  1.2541e+00, -1.8422e+00],\n",
            "        [ 1.8156e-01, -5.4278e-01, -1.0398e-01, -3.5550e-02, -4.9410e-01]])\n",
            "Cloned tensor: tensor([1, 2, 3])\n",
            "Reshaped tensor: torch.Size([100, 5])\n",
            "Concatenated tensor: tensor([1, 2, 3, 5, 6, 7])\n",
            "Mixed dtype result: tensor([1.1000, 2.2000, 3.3000])\n"
          ]
        }
      ],
      "source": [
        "\n",
        "# Printing tensors to verify\n",
        "print(\"Tensor from list:\", tensor_from_list)\n",
        "print(\"Tensor from NumPy array:\", tensor_from_numpy.shape)\n",
        "print(\"Tensor with dtype and device (int):\", tensor_with_dtype_device_1)\n",
        "print(\"Tensor with dtype and device (float):\", tensor_with_dtype_device_2)\n",
        "print(\"Zero tensor:\", zero_tensor)\n",
        "print(\"Ones tensor:\", ones_tensor)\n",
        "print(\"Random normal tensor:\", random_normal_tensor)\n",
        "print(\"Cloned tensor:\", cloned_tensor)\n",
        "print(\"Reshaped tensor:\", reshaped_tensor.shape)\n",
        "print(\"Concatenated tensor:\", concatenated_tensor)\n",
        "print(\"Mixed dtype result:\", mixed_dtype_result)\n"
      ]
    },
    {
      "cell_type": "markdown",
      "metadata": {
        "id": "TvL6c_cEboV_"
      },
      "source": [
        "1. Inspect the  attributes of some of the tensors you created with `shape,dtype,numel`.\n",
        "2. Indexing to access specific elements: `[[1, 2, 3], [4, 5, 6]]`, get the '2' element.\n",
        "3. Modify modify the '5' element to '10'\n",
        "4. Apply element-wise addition to two tensors.\n",
        "5. Apply element-wise multiplication to two tensors\n",
        "6. Apply a square root to a tensor.\n",
        "7. Create a tensor with random values from a uniform distribution between 0 and 1.\n",
        "8. Create a tensor with random values from a normal distribution with mean 0 and standard deviation 1\n",
        "9. Create a tensor with random values from a discrete uniform distribution between 1 and 10.\n",
        "10. Reshape a tensor from size `(2, 3)` to `(3, 2)`\n",
        "11. Transpose a tensor\n",
        "12. Concatenate tensors along a specific dimension\n",
        "13. Stack tensors along a new dimension\n"
      ]
    },
    {
      "cell_type": "code",
      "execution_count": 21,
      "metadata": {
        "id": "d_eeWx27eLGJ",
        "colab": {
          "base_uri": "https://localhost:8080/"
        },
        "outputId": "a9d53068-d239-4db8-c6a2-2a8d24e717ff"
      },
      "outputs": [
        {
          "output_type": "stream",
          "name": "stdout",
          "text": [
            "Shape: torch.Size([2, 3])\n",
            "Dtype: torch.int64\n",
            "Number of elements: 6\n",
            "Indexed value (2): 2\n",
            "Modified tensor: tensor([[ 1,  2,  3],\n",
            "        [ 4, 10,  6]])\n",
            "Element-wise addition: tensor([5, 7, 9])\n",
            "Element-wise multiplication: tensor([ 4, 10, 18])\n",
            "Square root of tensor_a: tensor([1.0000, 1.4142, 1.7321])\n",
            "Uniform distribution tensor: tensor([[0.9386, 0.8921, 0.6248],\n",
            "        [0.5211, 0.2916, 0.8803],\n",
            "        [0.2199, 0.9991, 0.5235]])\n",
            "Normal distribution tensor: tensor([[-0.7677,  1.3679,  0.5284],\n",
            "        [ 0.7033, -1.0676,  0.2686],\n",
            "        [-0.7360,  0.7485,  0.4368]])\n",
            "Discrete uniform distribution tensor: tensor([[ 1,  9, 10],\n",
            "        [ 2,  5,  6],\n",
            "        [ 7,  2,  2]])\n",
            "Reshaped tensor: tensor([[ 1,  2],\n",
            "        [ 3,  4],\n",
            "        [10,  6]])\n",
            "Transposed tensor: tensor([[ 1,  4],\n",
            "        [ 2, 10],\n",
            "        [ 3,  6]])\n",
            "Concatenated tensor: tensor([[1, 2, 3],\n",
            "        [4, 5, 6]])\n",
            "Stacked tensor: tensor([[1, 2, 3],\n",
            "        [4, 5, 6]])\n"
          ]
        }
      ],
      "source": [
        "\n",
        "# 1. Inspect the attributes of a tensor\n",
        "tensor_example = torch.tensor([[1, 2, 3], [4, 5, 6]])\n",
        "print(\"Shape:\", tensor_example.shape)\n",
        "print(\"Dtype:\", tensor_example.dtype)\n",
        "print(\"Number of elements:\", tensor_example.numel())\n",
        "\n",
        "# 2. Indexing to access specific elements\n",
        "indexed_value = tensor_example[0, 1]  # Access '2'\n",
        "print(\"Indexed value (2):\", indexed_value.item())\n",
        "\n",
        "# 3. Modify the '5' element to '10'\n",
        "tensor_example[1, 1] = 10  # Modify '5' to '10'\n",
        "print(\"Modified tensor:\", tensor_example)\n",
        "\n",
        "# 4. Element-wise addition\n",
        "tensor_a = torch.tensor([1, 2, 3])\n",
        "tensor_b = torch.tensor([4, 5, 6])\n",
        "elementwise_add = tensor_a + tensor_b\n",
        "print(\"Element-wise addition:\", elementwise_add)\n",
        "\n",
        "# 5. Element-wise multiplication\n",
        "elementwise_mul = tensor_a * tensor_b\n",
        "print(\"Element-wise multiplication:\", elementwise_mul)\n",
        "\n",
        "# 6. Apply square root to a tensor\n",
        "sqrt_tensor = torch.sqrt(tensor_a.float())\n",
        "print(\"Square root of tensor_a:\", sqrt_tensor)\n",
        "\n",
        "# 7. Create a tensor with random values from a uniform distribution between 0 and 1\n",
        "uniform_tensor = torch.rand((3, 3))\n",
        "print(\"Uniform distribution tensor:\", uniform_tensor)\n",
        "\n",
        "# 8. Create a tensor with random values from a normal distribution (mean 0, std 1)\n",
        "normal_tensor = torch.randn((3, 3))\n",
        "print(\"Normal distribution tensor:\", normal_tensor)\n",
        "\n",
        "# 9. Create a tensor with random values from a discrete uniform distribution between 1 and 10\n",
        "discrete_uniform_tensor = torch.randint(1, 11, (3, 3))\n",
        "print(\"Discrete uniform distribution tensor:\", discrete_uniform_tensor)\n",
        "\n",
        "# 10. Reshape a tensor from size (2, 3) to (3, 2)\n",
        "reshaped_tensor = tensor_example.view(3, 2)\n",
        "print(\"Reshaped tensor:\", reshaped_tensor)\n",
        "\n",
        "# 11. Transpose a tensor\n",
        "transposed_tensor = tensor_example.T\n",
        "print(\"Transposed tensor:\", transposed_tensor)\n",
        "\n",
        "# 12. Concatenate tensors along a specific dimension\n",
        "concatenated_tensor = torch.cat((tensor_a.unsqueeze(0), tensor_b.unsqueeze(0)), dim=0)\n",
        "print(\"Concatenated tensor:\", concatenated_tensor)\n",
        "\n",
        "# 13. Stack tensors along a new dimension\n",
        "stacked_tensor = torch.stack((tensor_a, tensor_b), dim=0)\n",
        "print(\"Stacked tensor:\", stacked_tensor)\n"
      ]
    },
    {
      "cell_type": "markdown",
      "metadata": {
        "id": "q5Ag4aLvd186"
      },
      "source": [
        "1. Sum of all elements in a tensor.\n",
        "2. Mean along a specific dimension\n",
        "3. Find the minimum and maximum values in a tensor\n",
        "4. Find the indices of minimum and maximum values in a tensor\n"
      ]
    },
    {
      "cell_type": "code",
      "execution_count": 23,
      "metadata": {
        "id": "YS_zcuzPeL2y",
        "colab": {
          "base_uri": "https://localhost:8080/"
        },
        "outputId": "c079d6fb-2e2c-41e5-c8ed-00d334e97ba4"
      },
      "outputs": [
        {
          "output_type": "stream",
          "name": "stdout",
          "text": [
            "Sum of all elements:21.0\n",
            "Mean along rows:tensor([2., 5.])\n",
            "Minimum value:1.0, Maximum value:6.0\n",
            "Index of minimum value: tensor(0)\n",
            "Index of maximum value: tensor(5)\n"
          ]
        }
      ],
      "source": [
        "import torch\n",
        "\n",
        "# Create a sample tensor\n",
        "tensor_example = torch.tensor([[1, 2, 3], [4, 5, 6]], dtype=torch.float32)\n",
        "\n",
        "# 1. Sum of all elements in a tensor\n",
        "sum_of_elements = torch.sum(tensor_example)\n",
        "print(f\"Sum of all elements:{sum_of_elements.item()}\")\n",
        "\n",
        "\n",
        "# 2. Mean along a specific dimension (e.g., rows - dim=1)\n",
        "mean_along_dim = torch.mean(tensor_example, dim=1)\n",
        "print(f\"Mean along rows:{mean_along_dim}\")\n",
        "\n",
        "\n",
        "# 3. Find the minimum and maximum values in a tensor\n",
        "min_value = torch.min(tensor_example)\n",
        "max_value = torch.max(tensor_example)\n",
        "print(f\"Minimum value:{min_value.item()}, Maximum value:{max_value.item()}\")\n",
        "\n",
        "\n",
        "# 4. Find the indices of minimum and maximum values in a tensor\n",
        "print(\"Index of minimum value:\", torch.argmin(tensor_example))\n",
        "print(\"Index of maximum value:\",torch.argmax(tensor_example))\n"
      ]
    },
    {
      "cell_type": "markdown",
      "metadata": {
        "id": "ZUhF40qoc9lh"
      },
      "source": [
        "Broadcasting:"
      ]
    },
    {
      "cell_type": "code",
      "execution_count": null,
      "metadata": {
        "id": "WZ3jXo9F7YyB"
      },
      "outputs": [],
      "source": [
        "\n",
        "# Broadcasting with scalars\n",
        "tensor_a = torch.tensor([1, 2, 3])\n",
        "scalar_b = 5\n",
        "result_broadcast_scalar = tensor_a + scalar_b\n",
        "print(\"Broadcasting with scalars:\")\n",
        "print(result_broadcast_scalar)  # Output: tensor([6, 7, 8])\n",
        "\n",
        "# Broadcasting with different shapes\n",
        "tensor_c = torch.tensor([[1, 2, 3], [4, 5, 6]])\n",
        "tensor_d = torch.tensor([10, 20, 30])\n",
        "result_broadcast_shape = tensor_c + tensor_d\n",
        "print(\"Broadcasting with different shapes:\")\n",
        "print(result_broadcast_shape)"
      ]
    },
    {
      "cell_type": "code",
      "execution_count": null,
      "metadata": {
        "id": "CTTx-zG3dFzd"
      },
      "outputs": [],
      "source": [
        "# Broadcasting with multidimensional tensors\n",
        "tensor_a = torch.tensor([[1, 2, 3], [4, 5, 6]])\n",
        "tensor_b = torch.tensor([10, 20, 30])\n",
        "result_broadcast = tensor_a + tensor_b\n",
        "print(\"Broadcasting with multidimensional tensors:\")\n",
        "print(result_broadcast)\n",
        "\n",
        "# Common broadcasting pitfalls\n",
        "tensor_c = torch.tensor([[1, 2, 3], [4, 5, 6]])\n",
        "tensor_d = torch.tensor([10, 20])\n",
        "# The following line will raise a RuntimeError\n",
        "try:\n",
        "    result_pitfall = tensor_c + tensor_d\n",
        "except RuntimeError as e:\n",
        "    print(\"RuntimeError:\", e)"
      ]
    },
    {
      "cell_type": "markdown",
      "metadata": {
        "id": "d8XnR20UdL9x"
      },
      "source": [
        "Device specification"
      ]
    },
    {
      "cell_type": "code",
      "execution_count": null,
      "metadata": {
        "id": "UmOPlcDndLei"
      },
      "outputs": [],
      "source": [
        "# Code examples for device configuration and availability\n",
        "\n",
        "# Check if GPU is available\n",
        "is_gpu_available = torch.cuda.is_available()\n",
        "print(\"Is GPU available?\", is_gpu_available)\n",
        "\n",
        "# Specify device for tensor operations\n",
        "device = torch.device('cuda' if is_gpu_available else 'cpu')\n",
        "tensor_gpu = torch.tensor([1, 2, 3], device=device)\n",
        "print(\"Tensor on GPU:\", tensor_gpu)\n"
      ]
    },
    {
      "cell_type": "markdown",
      "metadata": {
        "id": "aTb9_VWsgCkv"
      },
      "source": [
        "Dataloader practice:"
      ]
    },
    {
      "cell_type": "markdown",
      "metadata": {
        "id": "A-XSmZ7Tffq2"
      },
      "source": [
        "Using the Fashion MNIST dataloader object, iterate over the batches, and calculate an interesting statistic. Make sure the statistic represent the entire data, not just a single batch. Hint- find a way to \"update\" the statistic along the batches."
      ]
    },
    {
      "cell_type": "code",
      "execution_count": null,
      "metadata": {
        "id": "HGEJGIBR7WF1"
      },
      "outputs": [],
      "source": [
        "! pip install torch torchvision"
      ]
    },
    {
      "cell_type": "code",
      "execution_count": null,
      "metadata": {
        "id": "ED4PArw7e43C"
      },
      "outputs": [],
      "source": [
        "import torch\n",
        "from torchvision import datasets, transforms\n",
        "import numpy as np\n",
        "import matplotlib.pyplot as plt\n",
        "\n",
        "# load data\n",
        "transform = transforms.Compose([\n",
        "    transforms.ToTensor()\n",
        "])\n",
        "train_dataset = datasets.MNIST(root='./data', train=True, download=True, transform=transform)\n",
        "digit_sums = {digit: torch.zeros(28, 28) for digit in range(10)}\n",
        "digit_counts = {digit: 0 for digit in range(10)}\n",
        "\n",
        "\n",
        "# Compute the average image for each digit\n",
        "for img, label in train_dataset:\n",
        "    digit_sums[label] += img.squeeze()  # Remove the channel dimension (1, 28, 28) -> (28, 28)\n",
        "    digit_counts[label] += 1\n",
        "\n",
        "average_images = {digit: digit_sums[digit] / digit_counts[digit] for digit in range(10)}\n",
        "\n",
        "# Plot the average images\n",
        "fig, axes = plt.subplots(2, 5, figsize=(12, 6))\n",
        "for digit, ax in enumerate(axes.flatten()):\n",
        "    ax.imshow(average_images[digit], cmap='gray')\n",
        "    ax.set_title(f\"Digit {digit}\")\n",
        "    ax.axis('off')\n",
        "plt.tight_layout()\n",
        "plt.show()"
      ]
    },
    {
      "cell_type": "markdown",
      "metadata": {
        "id": "NrhHnCUOXeTY"
      },
      "source": [
        "## How to export an `HTML` file of your `ipynb`\n"
      ]
    },
    {
      "cell_type": "markdown",
      "metadata": {
        "id": "-yvoSJjmXqah"
      },
      "source": [
        "1. Save your notebook and make sure all the cells have the expected output.\n",
        "2. Download your notebook to your local machine.   `File-->Download-->Download ipynb`\n",
        "3.  Reupload it so Colab can see it :  Click on the Files icon on the far left bar--> you should see your current kernel folder --> click `upload to session storage` --> upload your file.\n",
        "4. Execute the following: `!jupyter nbconvert --to html /content/NOTEBOOKFILE.ipynb`\n",
        "5. You should see the html file produced in your kernel's current folder. You can download it locally.\n",
        "[link text](https://)"
      ]
    },
    {
      "cell_type": "markdown",
      "metadata": {
        "id": "ZKpF6F5E741a"
      },
      "source": [
        " END OF PyTorch BASICS"
      ]
    }
  ],
  "metadata": {
    "colab": {
      "provenance": [],
      "toc_visible": true
    },
    "kernelspec": {
      "display_name": ".venv",
      "language": "python",
      "name": "python3"
    },
    "language_info": {
      "codemirror_mode": {
        "name": "ipython",
        "version": 3
      },
      "file_extension": ".py",
      "mimetype": "text/x-python",
      "name": "python",
      "nbconvert_exporter": "python",
      "pygments_lexer": "ipython3",
      "version": "3.10.11"
    }
  },
  "nbformat": 4,
  "nbformat_minor": 0
}