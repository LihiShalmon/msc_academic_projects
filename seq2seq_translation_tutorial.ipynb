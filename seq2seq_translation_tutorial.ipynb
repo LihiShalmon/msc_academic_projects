{
  "cells": [
    {
      "cell_type": "markdown",
      "metadata": {
        "id": "view-in-github",
        "colab_type": "text"
      },
      "source": [
        "<a href=\"https://colab.research.google.com/github/LihiShalmon/msc_academic_projects/blob/main/seq2seq_translation_tutorial.ipynb\" target=\"_parent\"><img src=\"https://colab.research.google.com/assets/colab-badge.svg\" alt=\"Open In Colab\"/></a>"
      ]
    },
    {
      "cell_type": "code",
      "execution_count": 125,
      "metadata": {
        "id": "SrCtwuP83wsg"
      },
      "outputs": [],
      "source": [
        "# For tips on running notebooks in Google Colab, see\n",
        "# https://pytorch.org/tutorials/beginner/colab\n",
        "%matplotlib inline"
      ]
    },
    {
      "cell_type": "markdown",
      "metadata": {
        "id": "mdobXuAh3wsh"
      },
      "source": [
        "NLP From Scratch: Translation with a Sequence to Sequence Network and Attention\n",
        "===============================================================================\n",
        "\n",
        "**Author**: [Sean Robertson](https://github.com/spro)\n",
        "\n",
        "This tutorials is part of a three-part series:\n",
        "\n",
        "-   [NLP From Scratch: Classifying Names with a Character-Level\n",
        "    RNN](https://pytorch.org/tutorials/intermediate/char_rnn_classification_tutorial.html)\n",
        "-   [NLP From Scratch: Generating Names with a Character-Level\n",
        "    RNN](https://pytorch.org/tutorials/intermediate/char_rnn_generation_tutorial.html)\n",
        "-   [NLP From Scratch: Translation with a Sequence to Sequence Network\n",
        "    and\n",
        "    Attention](https://pytorch.org/tutorials/intermediate/seq2seq_translation_tutorial.html)\n",
        "\n",
        "This is the third and final tutorial on doing **NLP From Scratch**,\n",
        "where we write our own classes and functions to preprocess the data to\n",
        "do our NLP modeling tasks.\n",
        "\n",
        "In this project we will be teaching a neural network to translate from\n",
        "French to English.\n",
        "\n",
        "``` {.sh}\n",
        "[KEY: > input, = target, < output]\n",
        "\n",
        "> il est en train de peindre un tableau .\n",
        "= he is painting a picture .\n",
        "< he is painting a picture .\n",
        "\n",
        "> pourquoi ne pas essayer ce vin delicieux ?\n",
        "= why not try that delicious wine ?\n",
        "< why not try that delicious wine ?\n",
        "\n",
        "> elle n est pas poete mais romanciere .\n",
        "= she is not a poet but a novelist .\n",
        "< she not not a poet but a novelist .\n",
        "\n",
        "> vous etes trop maigre .\n",
        "= you re too skinny .\n",
        "< you re all alone .\n",
        "```\n",
        "\n",
        "\\... to varying degrees of success.\n",
        "\n",
        "This is made possible by the simple but powerful idea of the [sequence\n",
        "to sequence network](https://arxiv.org/abs/1409.3215), in which two\n",
        "recurrent neural networks work together to transform one sequence to\n",
        "another. An encoder network condenses an input sequence into a vector,\n",
        "and a decoder network unfolds that vector into a new sequence.\n",
        "\n",
        "![](https://pytorch.org/tutorials/_static/img/seq-seq-images/seq2seq.png)\n",
        "\n",
        "To improve upon this model we\\'ll use an [attention\n",
        "mechanism](https://arxiv.org/abs/1409.0473), which lets the decoder\n",
        "learn to focus over a specific range of the input sequence.\n",
        "\n",
        "**Recommended Reading:**\n",
        "\n",
        "I assume you have at least installed PyTorch, know Python, and\n",
        "understand Tensors:\n",
        "\n",
        "-   <https://pytorch.org/> For installation instructions\n",
        "-   `/beginner/deep_learning_60min_blitz`{.interpreted-text role=\"doc\"}\n",
        "    to get started with PyTorch in general\n",
        "-   `/beginner/pytorch_with_examples`{.interpreted-text role=\"doc\"} for\n",
        "    a wide and deep overview\n",
        "-   `/beginner/former_torchies_tutorial`{.interpreted-text role=\"doc\"}\n",
        "    if you are former Lua Torch user\n",
        "\n",
        "It would also be useful to know about Sequence to Sequence networks and\n",
        "how they work:\n",
        "\n",
        "-   [Learning Phrase Representations using RNN Encoder-Decoder for\n",
        "    Statistical Machine Translation](https://arxiv.org/abs/1406.1078)\n",
        "-   [Sequence to Sequence Learning with Neural\n",
        "    Networks](https://arxiv.org/abs/1409.3215)\n",
        "-   [Neural Machine Translation by Jointly Learning to Align and\n",
        "    Translate](https://arxiv.org/abs/1409.0473)\n",
        "-   [A Neural Conversational Model](https://arxiv.org/abs/1506.05869)\n",
        "\n",
        "You will also find the previous tutorials on\n",
        "`/intermediate/char_rnn_classification_tutorial`{.interpreted-text\n",
        "role=\"doc\"} and\n",
        "`/intermediate/char_rnn_generation_tutorial`{.interpreted-text\n",
        "role=\"doc\"} helpful as those concepts are very similar to the Encoder\n",
        "and Decoder models, respectively.\n",
        "\n",
        "**Requirements**\n"
      ]
    },
    {
      "cell_type": "code",
      "source": [
        "# 1.a) Upload the ZIP file from your local machine\n",
        "# from google.colab import files\n",
        "# uploaded = files.upload()\n",
        "\n",
        "# Assuming the ZIP file is named \"heb-eng.zip\"\n",
        "import zipfile\n",
        "import os\n",
        "\n",
        "\n",
        "# 1.b) Parse and clean the heb.txt file\n",
        "# Read the file\n",
        "with open('/content/heb.txt', 'r', encoding='utf-8') as file:\n",
        "    lines = file.readlines()\n",
        "\n",
        "# Clean and parse the file\n",
        "cleaned_lines = []\n",
        "for line in lines:\n",
        "    # Remove leading/trailing whitespace and unwanted characters\n",
        "    line = line.strip()\n",
        "    line = re.sub(\"[^\\w\\s]\",\"\",line)\n",
        "    if line:  # Ensure line is not empty\n",
        "        # Split the sentence pair (assuming they are separated by a tab)\n",
        "        parts = line.split('\\t')\n",
        "        # parts = line.replace(\"!\",\"\").replace(\".\",\"\")\n",
        "        if len(parts) >= 2:\n",
        "            hebrew_sentence = parts[0]\n",
        "            english_sentence = parts[1]\n",
        "            # Add cleaned and parsed sentence pair to the list\n",
        "            cleaned_lines.append((hebrew_sentence, english_sentence))\n",
        "\n",
        "print(cleaned_lines[:10])\n",
        "# Optionally, you can write the cleaned data to a new file\n",
        "with open('/content/data/eng-heb.txt', 'w', encoding='utf-8') as file:\n",
        "    for hebrew_sentence, english_sentence in cleaned_lines:\n",
        "        file.write(f'{hebrew_sentence}\\t{english_sentence}\\n')\n",
        "\n",
        "print(\"File parsed and cleaned successfully!\")\n",
        "print(f\"cleaned lines are {cleaned_lines[:10]}\")"
      ],
      "metadata": {
        "colab": {
          "base_uri": "https://localhost:8080/"
        },
        "id": "8PYnZLMP9Jzk",
        "outputId": "b446e536-5adf-4192-e9f4-4e41ebe7d09e"
      },
      "execution_count": 126,
      "outputs": [
        {
          "output_type": "stream",
          "name": "stdout",
          "text": [
            "[('Go', 'לך'), ('Hi', 'היי'), ('Hi', 'אהלן'), ('Run', 'רוץ'), ('Run', 'רוצי'), ('Run', 'רוצו'), ('Who', 'מי'), ('Wow', 'וואו'), ('Wow', 'ואו'), ('Duck', 'תתכופפי')]\n",
            "File parsed and cleaned successfully!\n",
            "cleaned lines are [('Go', 'לך'), ('Hi', 'היי'), ('Hi', 'אהלן'), ('Run', 'רוץ'), ('Run', 'רוצי'), ('Run', 'רוצו'), ('Who', 'מי'), ('Wow', 'וואו'), ('Wow', 'ואו'), ('Duck', 'תתכופפי')]\n"
          ]
        }
      ]
    },
    {
      "cell_type": "code",
      "execution_count": 127,
      "metadata": {
        "id": "JWCmYXt-3wsj"
      },
      "outputs": [],
      "source": [
        "from __future__ import unicode_literals, print_function, division\n",
        "from io import open\n",
        "import unicodedata\n",
        "import re\n",
        "import random\n",
        "\n",
        "import torch\n",
        "import torch.nn as nn\n",
        "from torch import optim\n",
        "import torch.nn.functional as F\n",
        "\n",
        "import numpy as np\n",
        "from torch.utils.data import TensorDataset, DataLoader, RandomSampler\n",
        "\n",
        "device = torch.device(\"cuda\" if torch.cuda.is_available() else \"cpu\")"
      ]
    },
    {
      "cell_type": "markdown",
      "metadata": {
        "id": "yHt2Fbt83wsk"
      },
      "source": [
        "Loading data files\n",
        "==================\n",
        "\n",
        "The data for this project is a set of many thousands of English to\n",
        "French translation pairs.\n",
        "\n",
        "[This question on Open Data Stack\n",
        "Exchange](https://opendata.stackexchange.com/questions/3888/dataset-of-sentences-translated-into-many-languages)\n",
        "pointed me to the open translation site <https://tatoeba.org/> which has\n",
        "downloads available at <https://tatoeba.org/eng/downloads> - and better\n",
        "yet, someone did the extra work of splitting language pairs into\n",
        "individual text files here: <https://www.manythings.org/anki/>\n",
        "\n",
        "The English to French pairs are too big to include in the repository, so\n",
        "download to `data/eng-fra.txt` before continuing. The file is a tab\n",
        "separated list of translation pairs:\n",
        "\n",
        "``` {.sh}\n",
        "I am cold.    J'ai froid.\n",
        "```\n",
        "\n",
        "<div style=\"background-color: #54c7ec; color: #fff; font-weight: 700; padding-left: 10px; padding-top: 5px; padding-bottom: 5px\"><strong>NOTE:</strong></div>\n",
        "\n",
        "<div style=\"background-color: #f3f4f7; padding-left: 10px; padding-top: 10px; padding-bottom: 10px; padding-right: 10px\">\n",
        "\n",
        "<p>Download the data from<a href=\"https://download.pytorch.org/tutorial/data.zip\">here</a>and extract it to the current directory.</p>\n",
        "\n",
        "</div>\n",
        "\n"
      ]
    },
    {
      "cell_type": "code",
      "execution_count": 128,
      "metadata": {
        "id": "fRKAAxFt3wsl"
      },
      "outputs": [],
      "source": [
        "SOS_token = 0\n",
        "EOS_token = 1\n",
        "\n",
        "class Lang:\n",
        "    def __init__(self, name):\n",
        "        self.name = name\n",
        "        self.word2index = {}\n",
        "        self.word2count = {}\n",
        "        self.index2word = {0: \"SOS\", 1: \"EOS\"}\n",
        "        self.n_words = 2  # Count SOS and EOS\n",
        "\n",
        "    def addSentence(self, sentence):\n",
        "        for word in sentence.split(' '):\n",
        "            self.addWord(word)\n",
        "\n",
        "    def addWord(self, word):\n",
        "        if word not in self.word2index:\n",
        "            self.word2index[word] = self.n_words\n",
        "            self.word2count[word] = 1\n",
        "            self.index2word[self.n_words] = word\n",
        "            self.n_words += 1\n",
        "        else:\n",
        "            self.word2count[word] += 1"
      ]
    },
    {
      "cell_type": "markdown",
      "metadata": {
        "id": "H_Y3OW9p3wsl"
      },
      "source": [
        "The files are all in Unicode, to simplify we will turn Unicode\n",
        "characters to ASCII, make everything lowercase, and trim most\n",
        "punctuation.\n"
      ]
    },
    {
      "cell_type": "code",
      "execution_count": 156,
      "metadata": {
        "id": "syD3RfND3wsm"
      },
      "outputs": [],
      "source": [
        "# Turn a Unicode string to plain ASCII, thanks to\n",
        "# https://stackoverflow.com/a/518232/2809427\n",
        "def unicodeToAscii(s):\n",
        "    return ''.join(\n",
        "        c for c in unicodedata.normalize('NFD', s)\n",
        "        if unicodedata.category(c) != 'Mn'\n",
        "    )\n",
        "\n",
        "# Lowercase, trim, and remove non-letter characters\n",
        "def normalizeString(s):\n",
        "    s = unicodeToAscii(s.lower().strip())\n",
        "    s = re.sub(r\"([.!?])\", r\" \\1\", s)\n",
        "    s = re.sub(r\"[^a-zA-Z\\u0590-\\u05FF!?]+\", r\" \", s)  # Keep Hebrew characters\n",
        "    return s.strip()"
      ]
    },
    {
      "cell_type": "code",
      "execution_count": 154,
      "metadata": {
        "id": "WSbnSCKP3wsm"
      },
      "outputs": [],
      "source": [
        "import random\n",
        "\n",
        "def readLangs(lang1, lang2, reverse=False):\n",
        "    print(\"Reading lines...\")\n",
        "\n",
        "    # Read the file and split into lines\n",
        "    lines = open('data/%s-%s.txt' % (lang1, lang2), encoding='utf-8').\\\n",
        "        read().strip().split('\\n')\n",
        "    print(f\"initially the lines are {lines[:10]}\")\n",
        "    print('data/%s-%s.txt' % (lang1, lang2))\n",
        "\n",
        "\n",
        "    # Split every line into pairs and normalize\n",
        "    print(\"this is the normalizeString:\")\n",
        "    generator_sample = (normalizeString(s) for l in lines[:10] for s in l.split('\\t'))\n",
        "\n",
        "    for sample in generator_sample:\n",
        "        print(sample)\n",
        "\n",
        "    pairs = [[normalizeString(s) for s in l.split('\\t')] for l in lines]\n",
        "    print(f\"sample of pairs {random.sample(pairs,10)}\")\n",
        "    # Reverse pairs, make Lang instances\n",
        "    if reverse:\n",
        "        pairs = [list(reversed(p)) for p in pairs]\n",
        "\n",
        "        input_lang = Lang(lang2)\n",
        "        output_lang = Lang(lang1)\n",
        "        print(f\"sample of pairs - reversed! {random.sample(pairs, 10)}\")\n",
        "    else:\n",
        "        input_lang = Lang(lang1)\n",
        "        output_lang = Lang(lang2)\n",
        "        print(f\"sample of pairs - not reversed! {random.sample(pairs, 10)}\")\n",
        "\n",
        "    return input_lang, output_lang, pairs"
      ]
    },
    {
      "cell_type": "code",
      "execution_count": 145,
      "metadata": {
        "id": "jWgwjiso3wsn"
      },
      "outputs": [],
      "source": [
        "MAX_LENGTH = 10\n",
        "\n",
        "eng_prefixes = (\n",
        "    \"i am \", \"i m \",\n",
        "    \"he is\", \"he s \",\n",
        "    \"she is\", \"she s \",\n",
        "    \"you are\", \"you re \",\n",
        "    \"we are\", \"we re \",\n",
        "    \"they are\", \"they re \"\n",
        ")\n",
        "\n",
        "def filterPair(p):\n",
        "    return len(p[0].split(' ')) < MAX_LENGTH and \\\n",
        "        len(p[1].split(' ')) < MAX_LENGTH and \\\n",
        "        p[1].startswith(eng_prefixes)\n",
        "\n",
        "\n",
        "def filterPairs(pairs):\n",
        "   to_return = [pair for pair in pairs if filterPair(pair)]\n",
        "   print(f\"the length is {len(to_return)}\")\n",
        "   return to_return\n"
      ]
    },
    {
      "cell_type": "code",
      "source": [
        "# from google.colab import drive\n",
        "# drive.mount('/content/drive')\n"
      ],
      "metadata": {
        "id": "mtx0S3eq5Flt"
      },
      "execution_count": 132,
      "outputs": []
    },
    {
      "cell_type": "code",
      "execution_count": 157,
      "metadata": {
        "id": "VNIxxvDz3wsn",
        "outputId": "d744dda7-b35f-462f-da16-fd1671e37a34",
        "colab": {
          "base_uri": "https://localhost:8080/"
        }
      },
      "outputs": [
        {
          "output_type": "stream",
          "name": "stdout",
          "text": [
            "Reading lines...\n",
            "initially the lines are ['Go\\tלך', 'Hi\\tהיי', 'Hi\\tאהלן', 'Run\\tרוץ', 'Run\\tרוצי', 'Run\\tרוצו', 'Who\\tמי', 'Wow\\tוואו', 'Wow\\tואו', 'Duck\\tתתכופפי']\n",
            "data/eng-heb.txt\n",
            "this is the normalizeString:\n",
            "go\n",
            "לך\n",
            "hi\n",
            "היי\n",
            "hi\n",
            "אהלן\n",
            "run\n",
            "רוץ\n",
            "run\n",
            "רוצי\n",
            "run\n",
            "רוצו\n",
            "who\n",
            "מי\n",
            "wow\n",
            "וואו\n",
            "wow\n",
            "ואו\n",
            "duck\n",
            "תתכופפי\n",
            "sample of pairs [['the candle burned out', 'הנר אזל וכבה'], ['im in the middle of something can you call me back', 'אני באמצע משהו תוכל להתקשר אליי שוב אחרכך'], ['why do you say things like that', 'למה את אומרת דברים כאלה'], ['is that right', 'זה נכון'], ['tom had a very good night', 'לתום היה לילה טוב מאד'], ['turn on the radio please', 'תדליקי את הרדיו בבקשה'], ['ill have a talk with tom', 'אצטרך לדבר עם תום'], ['these flowers bloom earlier than others do', 'הפרחים האלה פורחים מוקדם יותר מהאחרים'], ['i watched it on youtube', 'צפיתי בזה באתר יוטיוב'], ['i dont want to talk to tom', 'אני לא מעוניינת לדבר עם תום']]\n",
            "sample of pairs - reversed! [['כמה זה בדולרים', 'how much is it in dollars'], ['כולם בתמונה מחייכים', 'everybody in the picture is smiling'], ['מילים לא עולות כסף', 'talk is cheap'], ['לתום אין עניין בגולף', 'tom has no interest in golf'], ['גזור את הבד באלכסון', 'cut the cloth diagonally'], ['טום הוא ילד ביישן', 'tom is a shy boy'], ['טום הוא חסר נימוס', 'tom has no manners'], ['יום הולדתי קרוב לזה שלך', 'my birthday is close to yours'], ['איש לא קד לו קידה', 'nobody bowed to him'], ['הכתב שכר דירה יקרה מאד', 'the journalist rented an apartment that is very expensive']]\n",
            "Read 128133 sentence pairs\n",
            "pair at 0 before filter לך pair at 1 go\n",
            "pair at 0 before filter היי pair at 1 hi\n",
            "pair at 0 before filter אהלן pair at 1 hi\n",
            "pair at 0 before filter רוץ pair at 1 run\n",
            "the length is 1718\n",
            "Trimmed to 1718 sentence pairs\n",
            "Counting words...\n",
            "pair at 0 is אני תום pair at 1 i am tom\n",
            "pair at 0 is אני זקן pair at 1 i am old\n",
            "pair at 0 is הוא זקן pair at 1 he is old\n",
            "pair at 0 is קר לי pair at 1 i am cold\n",
            "Counted words:\n",
            "heb 2109\n",
            "eng 1280\n",
            "[['אני תום', 'i am tom'], ['אני זקן', 'i am old'], ['הוא זקן', 'he is old'], ['קר לי', 'i am cold'], ['אני בסדר', 'i am okay'], ['אני בטוח', 'i am sure'], ['אני בטוחה', 'i am sure'], ['אני גבוה', 'i am tall'], ['אני חלש', 'i am weak'], ['אני חלשה', 'i am weak']]\n",
            "['סביר שהיא תבוא', 'she is likely to come']\n"
          ]
        }
      ],
      "source": [
        "def prepareData(lang1, lang2, reverse=False):\n",
        "    input_lang, output_lang, pairs = readLangs(lang1, lang2, reverse)\n",
        "    print(\"Read %s sentence pairs\" % len(pairs))\n",
        "    for pair in pairs[:4]:\n",
        "      print(f\"pair at 0 before filter {pair[0]} pair at 1 {pair[1]}\")\n",
        "\n",
        "    pairs = filterPairs(pairs)\n",
        "\n",
        "    print(\"Trimmed to %s sentence pairs\" % len(pairs))\n",
        "    print(\"Counting words...\")\n",
        "    for pair in pairs[:4]:\n",
        "      print(f\"pair at 0 is {pair[0]} pair at 1 {pair[1]}\")\n",
        "\n",
        "    for pair in pairs:\n",
        "        input_lang.addSentence(pair[0])\n",
        "        output_lang.addSentence(pair[1])\n",
        "    print(\"Counted words:\")\n",
        "    print(input_lang.name, input_lang.n_words)\n",
        "    print(output_lang.name, output_lang.n_words)\n",
        "    return input_lang, output_lang, pairs\n",
        "\n",
        "input_lang, output_lang, pairs = prepareData('eng', 'heb', True)\n",
        "print(pairs[:10])\n",
        "print(random.choice(pairs))\n"
      ]
    },
    {
      "cell_type": "code",
      "source": [],
      "metadata": {
        "id": "rRYKVirKFV4L"
      },
      "execution_count": null,
      "outputs": []
    },
    {
      "cell_type": "code",
      "execution_count": 159,
      "metadata": {
        "id": "fCk0ABl-3wso"
      },
      "outputs": [],
      "source": [
        "class EncoderRNN(nn.Module):\n",
        "    def __init__(self, input_size, hidden_size, dropout_p=0.1):\n",
        "        super(EncoderRNN, self).__init__()\n",
        "        self.hidden_size = hidden_size\n",
        "\n",
        "        self.embedding = nn.Embedding(input_size, hidden_size)\n",
        "        self.gru = nn.GRU(hidden_size, hidden_size, batch_first=True)\n",
        "        self.dropout = nn.Dropout(dropout_p)\n",
        "\n",
        "    def forward(self, input):\n",
        "        embedded = self.dropout(self.embedding(input))\n",
        "        output, hidden = self.gru(embedded)\n",
        "        return output, hidden"
      ]
    },
    {
      "cell_type": "code",
      "execution_count": 160,
      "metadata": {
        "id": "XuOI31lP3wso"
      },
      "outputs": [],
      "source": [
        "class DecoderRNN(nn.Module):\n",
        "    def __init__(self, hidden_size, output_size):\n",
        "        super(DecoderRNN, self).__init__()\n",
        "        self.embedding = nn.Embedding(output_size, hidden_size)\n",
        "        self.gru = nn.GRU(hidden_size, hidden_size, batch_first=True)\n",
        "        self.out = nn.Linear(hidden_size, output_size)\n",
        "\n",
        "    def forward(self, encoder_outputs, encoder_hidden, target_tensor=None):\n",
        "        batch_size = encoder_outputs.size(0)\n",
        "        decoder_input = torch.empty(batch_size, 1, dtype=torch.long, device=device).fill_(SOS_token)\n",
        "        decoder_hidden = encoder_hidden\n",
        "        decoder_outputs = []\n",
        "\n",
        "        for i in range(MAX_LENGTH):\n",
        "            decoder_output, decoder_hidden  = self.forward_step(decoder_input, decoder_hidden)\n",
        "            decoder_outputs.append(decoder_output)\n",
        "\n",
        "            if target_tensor is not None:\n",
        "                # Teacher forcing: Feed the target as the next input\n",
        "                decoder_input = target_tensor[:, i].unsqueeze(1) # Teacher forcing\n",
        "            else:\n",
        "                # Without teacher forcing: use its own predictions as the next input\n",
        "                _, topi = decoder_output.topk(1)\n",
        "                decoder_input = topi.squeeze(-1).detach()  # detach from history as input\n",
        "\n",
        "        decoder_outputs = torch.cat(decoder_outputs, dim=1)\n",
        "        decoder_outputs = F.log_softmax(decoder_outputs, dim=-1)\n",
        "        return decoder_outputs, decoder_hidden, None # We return `None` for consistency in the training loop\n",
        "\n",
        "    def forward_step(self, input, hidden):\n",
        "        output = self.embedding(input)\n",
        "        output = F.relu(output)\n",
        "        output, hidden = self.gru(output, hidden)\n",
        "        output = self.out(output)\n",
        "        return output, hidden"
      ]
    },
    {
      "cell_type": "code",
      "execution_count": 161,
      "metadata": {
        "id": "9ieL9rm43wsp"
      },
      "outputs": [],
      "source": [
        "class BahdanauAttention(nn.Module):\n",
        "    def __init__(self, hidden_size):\n",
        "        super(BahdanauAttention, self).__init__()\n",
        "        self.Wa = nn.Linear(hidden_size, hidden_size)\n",
        "        self.Ua = nn.Linear(hidden_size, hidden_size)\n",
        "        self.Va = nn.Linear(hidden_size, 1)\n",
        "\n",
        "    def forward(self, query, keys):\n",
        "        scores = self.Va(torch.tanh(self.Wa(query) + self.Ua(keys)))\n",
        "        scores = scores.squeeze(2).unsqueeze(1)\n",
        "\n",
        "        weights = F.softmax(scores, dim=-1)\n",
        "        context = torch.bmm(weights, keys)\n",
        "\n",
        "        return context, weights\n",
        "\n",
        "class AttnDecoderRNN(nn.Module):\n",
        "    def __init__(self, hidden_size, output_size, dropout_p=0.1):\n",
        "        super(AttnDecoderRNN, self).__init__()\n",
        "        self.embedding = nn.Embedding(output_size, hidden_size)\n",
        "        self.attention = BahdanauAttention(hidden_size)\n",
        "        self.gru = nn.GRU(2 * hidden_size, hidden_size, batch_first=True)\n",
        "        self.out = nn.Linear(hidden_size, output_size)\n",
        "        self.dropout = nn.Dropout(dropout_p)\n",
        "\n",
        "    def forward(self, encoder_outputs, encoder_hidden, target_tensor=None):\n",
        "        batch_size = encoder_outputs.size(0)\n",
        "        decoder_input = torch.empty(batch_size, 1, dtype=torch.long, device=device).fill_(SOS_token)\n",
        "        decoder_hidden = encoder_hidden\n",
        "        decoder_outputs = []\n",
        "        attentions = []\n",
        "\n",
        "        for i in range(MAX_LENGTH):\n",
        "            decoder_output, decoder_hidden, attn_weights = self.forward_step(\n",
        "                decoder_input, decoder_hidden, encoder_outputs\n",
        "            )\n",
        "            decoder_outputs.append(decoder_output)\n",
        "            attentions.append(attn_weights)\n",
        "\n",
        "            if target_tensor is not None:\n",
        "                # Teacher forcing: Feed the target as the next input\n",
        "                decoder_input = target_tensor[:, i].unsqueeze(1) # Teacher forcing\n",
        "            else:\n",
        "                # Without teacher forcing: use its own predictions as the next input\n",
        "                _, topi = decoder_output.topk(1)\n",
        "                decoder_input = topi.squeeze(-1).detach()  # detach from history as input\n",
        "\n",
        "        decoder_outputs = torch.cat(decoder_outputs, dim=1)\n",
        "        decoder_outputs = F.log_softmax(decoder_outputs, dim=-1)\n",
        "        attentions = torch.cat(attentions, dim=1)\n",
        "\n",
        "        return decoder_outputs, decoder_hidden, attentions\n",
        "\n",
        "\n",
        "    def forward_step(self, input, hidden, encoder_outputs):\n",
        "        embedded =  self.dropout(self.embedding(input))\n",
        "\n",
        "        query = hidden.permute(1, 0, 2)\n",
        "        context, attn_weights = self.attention(query, encoder_outputs)\n",
        "        input_gru = torch.cat((embedded, context), dim=2)\n",
        "\n",
        "        output, hidden = self.gru(input_gru, hidden)\n",
        "        output = self.out(output)\n",
        "\n",
        "        return output, hidden, attn_weights"
      ]
    },
    {
      "cell_type": "code",
      "execution_count": 162,
      "metadata": {
        "id": "QzEYFltC3wsp"
      },
      "outputs": [],
      "source": [
        "def indexesFromSentence(lang, sentence):\n",
        "    return [lang.word2index[word] for word in sentence.split(' ')]\n",
        "\n",
        "def tensorFromSentence(lang, sentence):\n",
        "    indexes = indexesFromSentence(lang, sentence)\n",
        "    indexes.append(EOS_token)\n",
        "    return torch.tensor(indexes, dtype=torch.long, device=device).view(1, -1)\n",
        "\n",
        "def tensorsFromPair(pair):\n",
        "    input_tensor = tensorFromSentence(input_lang, pair[0])\n",
        "    target_tensor = tensorFromSentence(output_lang, pair[1])\n",
        "    return (input_tensor, target_tensor)\n",
        "\n",
        "def get_dataloader(batch_size):\n",
        "    input_lang, output_lang, pairs = prepareData('eng', 'heb', True)\n",
        "\n",
        "    n = len(pairs)\n",
        "    input_ids = np.zeros((n, MAX_LENGTH), dtype=np.int32)\n",
        "    target_ids = np.zeros((n, MAX_LENGTH), dtype=np.int32)\n",
        "\n",
        "    for idx, (inp, tgt) in enumerate(pairs):\n",
        "        inp_ids = indexesFromSentence(input_lang, inp)\n",
        "        tgt_ids = indexesFromSentence(output_lang, tgt)\n",
        "        inp_ids.append(EOS_token)\n",
        "        tgt_ids.append(EOS_token)\n",
        "        input_ids[idx, :len(inp_ids)] = inp_ids\n",
        "        target_ids[idx, :len(tgt_ids)] = tgt_ids\n",
        "\n",
        "    train_data = TensorDataset(torch.LongTensor(input_ids).to(device),\n",
        "                               torch.LongTensor(target_ids).to(device))\n",
        "\n",
        "    train_sampler = RandomSampler(train_data)\n",
        "    train_dataloader = DataLoader(train_data, sampler=train_sampler, batch_size=batch_size)\n",
        "    return input_lang, output_lang, train_dataloader"
      ]
    },
    {
      "cell_type": "code",
      "execution_count": 163,
      "metadata": {
        "id": "SPQKSH1r3wsp"
      },
      "outputs": [],
      "source": [
        "def train_epoch(dataloader, encoder, decoder, encoder_optimizer,\n",
        "          decoder_optimizer, criterion):\n",
        "\n",
        "    total_loss = 0\n",
        "    for data in dataloader:\n",
        "        input_tensor, target_tensor = data\n",
        "\n",
        "        encoder_optimizer.zero_grad()\n",
        "        decoder_optimizer.zero_grad()\n",
        "\n",
        "        encoder_outputs, encoder_hidden = encoder(input_tensor)\n",
        "        decoder_outputs, _, _ = decoder(encoder_outputs, encoder_hidden, target_tensor)\n",
        "\n",
        "        loss = criterion(\n",
        "            decoder_outputs.view(-1, decoder_outputs.size(-1)),\n",
        "            target_tensor.view(-1)\n",
        "        )\n",
        "        loss.backward()\n",
        "\n",
        "        encoder_optimizer.step()\n",
        "        decoder_optimizer.step()\n",
        "\n",
        "        total_loss += loss.item()\n",
        "\n",
        "    return total_loss / len(dataloader)"
      ]
    },
    {
      "cell_type": "code",
      "execution_count": 164,
      "metadata": {
        "id": "dzj5ylO53wsq"
      },
      "outputs": [],
      "source": [
        "import time\n",
        "import math\n",
        "\n",
        "def asMinutes(s):\n",
        "    m = math.floor(s / 60)\n",
        "    s -= m * 60\n",
        "    return '%dm %ds' % (m, s)\n",
        "\n",
        "def timeSince(since, percent):\n",
        "    now = time.time()\n",
        "    s = now - since\n",
        "    es = s / (percent)\n",
        "    rs = es - s\n",
        "    return '%s (- %s)' % (asMinutes(s), asMinutes(rs))"
      ]
    },
    {
      "cell_type": "code",
      "execution_count": 165,
      "metadata": {
        "id": "_8-KwmKZ3wsq"
      },
      "outputs": [],
      "source": [
        "def train(train_dataloader, encoder, decoder, n_epochs, learning_rate=0.001,\n",
        "               print_every=100, plot_every=100):\n",
        "    start = time.time()\n",
        "    plot_losses = []\n",
        "    print_loss_total = 0  # Reset every print_every\n",
        "    plot_loss_total = 0  # Reset every plot_every\n",
        "\n",
        "    encoder_optimizer = optim.Adam(encoder.parameters(), lr=learning_rate)\n",
        "    decoder_optimizer = optim.Adam(decoder.parameters(), lr=learning_rate)\n",
        "    criterion = nn.NLLLoss()\n",
        "\n",
        "    for epoch in range(1, n_epochs + 1):\n",
        "        loss = train_epoch(train_dataloader, encoder, decoder, encoder_optimizer, decoder_optimizer, criterion)\n",
        "        print_loss_total += loss\n",
        "        plot_loss_total += loss\n",
        "\n",
        "        if epoch % print_every == 0:\n",
        "            print_loss_avg = print_loss_total / print_every\n",
        "            print_loss_total = 0\n",
        "            print('%s (%d %d%%) %.4f' % (timeSince(start, epoch / n_epochs),\n",
        "                                        epoch, epoch / n_epochs * 100, print_loss_avg))\n",
        "\n",
        "        if epoch % plot_every == 0:\n",
        "            plot_loss_avg = plot_loss_total / plot_every\n",
        "            plot_losses.append(plot_loss_avg)\n",
        "            plot_loss_total = 0\n",
        "\n",
        "    showPlot(plot_losses)"
      ]
    },
    {
      "cell_type": "code",
      "execution_count": 166,
      "metadata": {
        "id": "jYKZohXX3wsq"
      },
      "outputs": [],
      "source": [
        "import matplotlib.pyplot as plt\n",
        "plt.switch_backend('agg')\n",
        "import matplotlib.ticker as ticker\n",
        "import numpy as np\n",
        "\n",
        "def showPlot(points):\n",
        "    plt.figure()\n",
        "    fig, ax = plt.subplots()\n",
        "    # this locator puts ticks at regular intervals\n",
        "    loc = ticker.MultipleLocator(base=0.2)\n",
        "    ax.yaxis.set_major_locator(loc)\n",
        "    plt.plot(points)"
      ]
    },
    {
      "cell_type": "code",
      "execution_count": 167,
      "metadata": {
        "id": "YCAqg4mw3wsr"
      },
      "outputs": [],
      "source": [
        "def evaluate(encoder, decoder, sentence, input_lang, output_lang):\n",
        "    with torch.no_grad():\n",
        "        input_tensor = tensorFromSentence(input_lang, sentence)\n",
        "\n",
        "        encoder_outputs, encoder_hidden = encoder(input_tensor)\n",
        "        decoder_outputs, decoder_hidden, decoder_attn = decoder(encoder_outputs, encoder_hidden)\n",
        "\n",
        "        _, topi = decoder_outputs.topk(1)\n",
        "        decoded_ids = topi.squeeze()\n",
        "\n",
        "        decoded_words = []\n",
        "        for idx in decoded_ids:\n",
        "            if idx.item() == EOS_token:\n",
        "                decoded_words.append('<EOS>')\n",
        "                break\n",
        "            decoded_words.append(output_lang.index2word[idx.item()])\n",
        "    return decoded_words, decoder_attn"
      ]
    },
    {
      "cell_type": "code",
      "execution_count": 174,
      "metadata": {
        "id": "dT4LIgVQ3wsr"
      },
      "outputs": [],
      "source": [
        "def evaluateRandomly(encoder, decoder, n=20, return_sentences=False):\n",
        "    return_senetences = []\n",
        "    for i in range(n):\n",
        "        pair = random.choice(pairs)\n",
        "        print('>', pair[0])\n",
        "        print('=', pair[1])\n",
        "        output_words, _ = evaluate(encoder, decoder, pair[0], input_lang, output_lang)\n",
        "        output_sentence = ' '.join(output_words)\n",
        "        print('<', output_sentence)\n",
        "        print('')\n",
        "        return_senetences.append((pair[0], pair[1], output_sentence))\n",
        "    if return_sentences:\n",
        "        return return_senetences"
      ]
    },
    {
      "cell_type": "code",
      "execution_count": 169,
      "metadata": {
        "id": "lnu4G21l3wsw",
        "outputId": "081adb51-c2dd-4a81-fd27-30defec68353",
        "colab": {
          "base_uri": "https://localhost:8080/"
        }
      },
      "outputs": [
        {
          "output_type": "stream",
          "name": "stdout",
          "text": [
            "Reading lines...\n",
            "initially the lines are ['Go\\tלך', 'Hi\\tהיי', 'Hi\\tאהלן', 'Run\\tרוץ', 'Run\\tרוצי', 'Run\\tרוצו', 'Who\\tמי', 'Wow\\tוואו', 'Wow\\tואו', 'Duck\\tתתכופפי']\n",
            "data/eng-heb.txt\n",
            "this is the normalizeString:\n",
            "go\n",
            "לך\n",
            "hi\n",
            "היי\n",
            "hi\n",
            "אהלן\n",
            "run\n",
            "רוץ\n",
            "run\n",
            "רוצי\n",
            "run\n",
            "רוצו\n",
            "who\n",
            "מי\n",
            "wow\n",
            "וואו\n",
            "wow\n",
            "ואו\n",
            "duck\n",
            "תתכופפי\n",
            "sample of pairs [['a freezing beggar was brought into the hospital for treatment however he didnt have even one cent with which to settle the bill', 'קבצן קפוא הובא לבית החולים לטיפול אבל לא היה לו גרוש כדי לשלם את החשבון'], ['the richer he became the more he wanted', 'ככל שהוא נהיה יותר עשיר הוא רצה עוד יותר'], ['monica sone was a japaneseamerican writer', 'מוניקה סונה הייתה סופרת יפנית אמריקנית'], ['it wasnt that big a deal', 'זה לא היה ענין כל כך גדול'], ['the wrestler weighs over kilograms', 'משקלו של המתאבק הזה מעל קג'], ['tom appears to be nervous', 'תום נראה עצבני'], ['he asked for a beer', 'הוא ביקש בירה'], ['maybe were doing this all backwards', 'אולי אנו עושים את כל זה הפוך'], ['will you lend me your bicycle for an hour', 'תוכלי להשאיל לי את אופנייך למשך שעה'], ['im more afraid of them than i am of you', 'אני יותר מפחדת מהם מאשר ממך']]\n",
            "sample of pairs - reversed! [['טום משחק בחוץ', 'tom is playing outside'], ['טום מבטא את שמי בצורה שגויה', 'tom pronounces my name wrong'], ['ההימור היה אדיר', 'the stakes were enormous'], ['תום אומר שהוא מתכוון לשחק איתנו גולף היום אחהצ', 'tom says he intends to play golf with us this afternoon'], ['לא היה שם אף חתול', 'there werent any cats there'], ['יש לי הרגשה שאיש לא אומר את האמת כאן', 'i get the feeling that no one here is telling us the truth'], ['האניה התהפכה', 'a boat capsized'], ['אני סבור שדבריך אמת', 'i think what you say is true'], ['אני מוכן לאתגר', 'im ready for the challenge'], ['אני טיפשה', 'im stupid']]\n",
            "Read 128133 sentence pairs\n",
            "pair at 0 before filter לך pair at 1 go\n",
            "pair at 0 before filter היי pair at 1 hi\n",
            "pair at 0 before filter אהלן pair at 1 hi\n",
            "pair at 0 before filter רוץ pair at 1 run\n",
            "the length is 1718\n",
            "Trimmed to 1718 sentence pairs\n",
            "Counting words...\n",
            "pair at 0 is אני תום pair at 1 i am tom\n",
            "pair at 0 is אני זקן pair at 1 i am old\n",
            "pair at 0 is הוא זקן pair at 1 he is old\n",
            "pair at 0 is קר לי pair at 1 i am cold\n",
            "Counted words:\n",
            "heb 2109\n",
            "eng 1280\n",
            "0m 5s (- 1m 24s) (5 6%) 2.4634\n",
            "0m 11s (- 1m 18s) (10 12%) 1.5280\n",
            "0m 16s (- 1m 12s) (15 18%) 1.0714\n",
            "0m 22s (- 1m 6s) (20 25%) 0.7541\n",
            "0m 27s (- 1m 0s) (25 31%) 0.5192\n",
            "0m 33s (- 0m 55s) (30 37%) 0.3438\n",
            "0m 38s (- 0m 49s) (35 43%) 0.2192\n",
            "0m 44s (- 0m 44s) (40 50%) 0.1362\n",
            "0m 49s (- 0m 38s) (45 56%) 0.0855\n",
            "0m 55s (- 0m 33s) (50 62%) 0.0561\n",
            "1m 0s (- 0m 27s) (55 68%) 0.0387\n",
            "1m 6s (- 0m 22s) (60 75%) 0.0293\n",
            "1m 11s (- 0m 16s) (65 81%) 0.0227\n",
            "1m 17s (- 0m 11s) (70 87%) 0.0191\n",
            "1m 22s (- 0m 5s) (75 93%) 0.0161\n",
            "1m 28s (- 0m 0s) (80 100%) 0.0135\n"
          ]
        }
      ],
      "source": [
        "hidden_size = 128\n",
        "batch_size = 32\n",
        "\n",
        "input_lang, output_lang, train_dataloader = get_dataloader(batch_size)\n",
        "\n",
        "encoder = EncoderRNN(input_lang.n_words, hidden_size).to(device)\n",
        "decoder = AttnDecoderRNN(hidden_size, output_lang.n_words).to(device)\n",
        "\n",
        "train(train_dataloader, encoder, decoder, 80, print_every=5, plot_every=5)"
      ]
    },
    {
      "cell_type": "markdown",
      "metadata": {
        "id": "1JvNIjpE3wsw"
      },
      "source": [
        "Set dropout layers to `eval` mode\n"
      ]
    },
    {
      "cell_type": "code",
      "execution_count": 173,
      "metadata": {
        "id": "Qbu-8ZRa3wsw",
        "colab": {
          "base_uri": "https://localhost:8080/"
        },
        "outputId": "b29f3218-eaf3-41b8-dd4d-5872560ad2b8"
      },
      "outputs": [
        {
          "output_type": "stream",
          "name": "stdout",
          "text": [
            "> אני אוכל תפוח\n",
            "= i am eating an apple\n",
            "< i am eating an apple <EOS>\n",
            "\n",
            "> אני מוכן ומזומן\n",
            "= i am ready\n",
            "< i am ready <EOS>\n",
            "\n",
            "> היא צעירה ממני\n",
            "= she is younger than me\n",
            "< she is younger than me younger clerk me <EOS>\n",
            "\n",
            "> אתה נמצא במקום בטוח\n",
            "= you are in a safe place\n",
            "< you are in a safe place <EOS>\n",
            "\n",
            "> אני כל כך עייף שאני לא יכול ללמוד\n",
            "= i am so tired that i cant study\n",
            "< i am so tired that i cant study <EOS>\n",
            "\n",
            "> הוא בערך בגילי\n",
            "= he is about my age\n",
            "< he is about my age <EOS>\n",
            "\n",
            "> את תמיד מתלוננת\n",
            "= you are always complaining\n",
            "< you are always complaining me <EOS>\n",
            "\n",
            "> אני שמח שנתקלתי בך כאן\n",
            "= i am glad to run into you here\n",
            "< i am glad to run into here here <EOS>\n",
            "\n",
            "> אני עייף מלהקשיב לטום\n",
            "= i am tired of listening to tom\n",
            "< i am tired of listening to tom here <EOS>\n",
            "\n",
            "> היא יפהפיה\n",
            "= she is beautiful\n",
            "< she is beautiful <EOS>\n",
            "\n",
            "> הוא לא שם\n",
            "= he is not there\n",
            "< he is not there <EOS>\n",
            "\n",
            "> היא באמת גברת צעירה מקסימה ביותר\n",
            "= she is a most charming young lady indeed\n",
            "< she is a most charming young lady indeed <EOS>\n",
            "\n",
            "> הוא עני אך מאושר\n",
            "= he is poor but happy\n",
            "< he is poor but happy <EOS>\n",
            "\n",
            "> אינך אדיבה\n",
            "= you are not kind\n",
            "< you arent very smart <EOS>\n",
            "\n",
            "> הוא די צודק\n",
            "= he is quite right\n",
            "< he is quite right now <EOS>\n",
            "\n",
            "> אני מדבר עם טום\n",
            "= i am talking with tom\n",
            "< i am talking with tom <EOS>\n",
            "\n",
            "> אני אוהבת מכוניות\n",
            "= i am fond of cars\n",
            "< i am fond of cars <EOS>\n",
            "\n",
            "> הם שונים כיום ולילה\n",
            "= they are as different as day and night\n",
            "< of as different as day and night as day and\n",
            "\n",
            "> הוא נשוי ואב לשניים\n",
            "= he is married with two children\n",
            "< he is married with two children and greedy <EOS>\n",
            "\n",
            "> הוא החבר שלו\n",
            "= he is his friend\n",
            "< he is his friend his father pilots <EOS>\n",
            "\n"
          ]
        }
      ],
      "source": [
        "encoder.eval()\n",
        "decoder.eval()\n",
        "evaluateRandomly(encoder, decoder)"
      ]
    },
    {
      "cell_type": "code",
      "execution_count": 189,
      "metadata": {
        "id": "RjGxtl3_3wsx",
        "colab": {
          "base_uri": "https://localhost:8080/"
        },
        "outputId": "0cf84678-7cc3-4a1f-d098-dcb8ac40e3bb"
      },
      "outputs": [
        {
          "output_type": "stream",
          "name": "stdout",
          "text": [
            "['היא משוכנעת בתמימותי', 'she is convinced of my innocence']\n",
            "she is convinced of my innocence <EOS>\n",
            "tensor([[[1.3007e-06, 2.4559e-01, 1.8355e-01, 5.7086e-01],\n",
            "         [2.8096e-06, 2.1214e-01, 4.1442e-01, 3.7344e-01],\n",
            "         [2.1533e-05, 8.3570e-02, 8.0420e-01, 1.1221e-01],\n",
            "         [6.7287e-05, 6.1770e-02, 2.0128e-01, 7.3689e-01],\n",
            "         [1.1249e-04, 8.5987e-02, 3.0977e-01, 6.0413e-01],\n",
            "         [4.8531e-05, 1.2115e-01, 2.9980e-01, 5.7900e-01],\n",
            "         [4.7864e-06, 1.6770e-01, 1.8862e-01, 6.4368e-01],\n",
            "         [1.3000e-04, 1.6745e-01, 1.3983e-01, 6.9259e-01],\n",
            "         [6.0916e-06, 1.1805e-01, 4.6139e-02, 8.3581e-01],\n",
            "         [3.1090e-06, 1.2658e-01, 7.8656e-02, 7.9476e-01]]], device='cuda:0')\n",
            "['היא עקשנית', 'she is stubborn']\n",
            "she is obstinate <EOS>\n",
            "tensor([[[1.1289e-05, 3.2839e-03, 9.9670e-01],\n",
            "         [2.1570e-05, 2.9974e-03, 9.9698e-01],\n",
            "         [5.3559e-04, 5.3517e-02, 9.4595e-01],\n",
            "         [1.0786e-04, 2.2409e-03, 9.9765e-01],\n",
            "         [7.0379e-05, 1.0441e-03, 9.9889e-01],\n",
            "         [6.0778e-06, 2.3340e-04, 9.9976e-01],\n",
            "         [8.6349e-06, 2.9459e-04, 9.9970e-01],\n",
            "         [1.0178e-05, 2.5128e-04, 9.9974e-01],\n",
            "         [1.0305e-05, 2.3599e-04, 9.9975e-01],\n",
            "         [1.0372e-05, 2.2836e-04, 9.9976e-01]]], device='cuda:0')\n",
            "['הם כל כך יפים', 'they are so beautiful']\n",
            "they are so beautiful <EOS>\n",
            "tensor([[[1.7003e-06, 1.6148e-03, 9.7047e-03, 6.7448e-03, 9.8193e-01],\n",
            "         [3.4371e-05, 6.6881e-03, 8.2199e-02, 4.7010e-02, 8.6407e-01],\n",
            "         [6.3200e-05, 1.1058e-02, 7.4684e-02, 4.8959e-02, 8.6524e-01],\n",
            "         [4.8125e-05, 1.6564e-02, 1.2414e-02, 1.0288e-02, 9.6069e-01],\n",
            "         [8.4233e-05, 7.1831e-03, 3.9612e-02, 3.3285e-02, 9.1984e-01],\n",
            "         [9.9958e-06, 2.7183e-03, 3.0743e-02, 2.3453e-02, 9.4308e-01],\n",
            "         [1.6321e-05, 2.5020e-03, 8.7300e-03, 5.6449e-03, 9.8311e-01],\n",
            "         [2.0962e-05, 3.9899e-03, 1.2186e-02, 1.0042e-02, 9.7376e-01],\n",
            "         [2.9069e-05, 5.2652e-03, 1.2431e-02, 1.1340e-02, 9.7094e-01],\n",
            "         [3.1817e-05, 5.6058e-03, 1.2271e-02, 1.1864e-02, 9.7023e-01]]],\n",
            "       device='cuda:0')\n",
            "['אנחנו לא לבדנו', 'we arent alone']\n",
            "we arent alone <EOS>\n",
            "tensor([[[0.0595, 0.0147, 0.6924, 0.2335],\n",
            "         [0.0136, 0.0509, 0.7551, 0.1803],\n",
            "         [0.0228, 0.0096, 0.5116, 0.4559],\n",
            "         [0.0514, 0.0036, 0.1398, 0.8052],\n",
            "         [0.0317, 0.0027, 0.1053, 0.8603],\n",
            "         [0.0085, 0.0010, 0.0529, 0.9376],\n",
            "         [0.0144, 0.0013, 0.0495, 0.9349],\n",
            "         [0.0152, 0.0013, 0.0492, 0.9342],\n",
            "         [0.0156, 0.0013, 0.0486, 0.9344],\n",
            "         [0.0160, 0.0014, 0.0482, 0.9345]]], device='cuda:0')\n",
            "['הם שחקני כדור בסיס', 'they are baseball players']\n",
            "they are baseball players baseball players baseball players baseball players\n",
            "tensor([[[1.9724e-06, 8.8110e-03, 1.9566e-03, 1.2193e-02, 9.7704e-01],\n",
            "         [1.4864e-05, 1.6776e-02, 6.3715e-03, 3.7113e-02, 9.3972e-01],\n",
            "         [2.7302e-05, 1.6610e-02, 4.9535e-03, 6.2397e-02, 9.1601e-01],\n",
            "         [4.3545e-06, 2.4562e-03, 5.3291e-04, 2.8601e-03, 9.9415e-01],\n",
            "         [7.6757e-06, 5.4504e-03, 1.2775e-03, 7.5060e-03, 9.8576e-01],\n",
            "         [8.5653e-06, 9.2483e-03, 1.6116e-03, 1.2269e-02, 9.7686e-01],\n",
            "         [2.0226e-05, 8.4833e-03, 1.8891e-03, 1.4299e-02, 9.7531e-01],\n",
            "         [9.5028e-06, 9.4127e-03, 1.9753e-03, 1.3627e-02, 9.7498e-01],\n",
            "         [1.6491e-05, 1.0003e-02, 2.3321e-03, 2.2197e-02, 9.6545e-01],\n",
            "         [1.0686e-05, 1.1365e-02, 2.1604e-03, 1.6385e-02, 9.7008e-01]]],\n",
            "       device='cuda:0')\n"
          ]
        }
      ],
      "source": [
        "def showAttention(input_sentence, output_words, attentions):\n",
        "    fig = plt.figure()\n",
        "    ax = fig.add_subplot(111)\n",
        "    cax = ax.matshow(attentions.cpu().numpy(), cmap='bone')\n",
        "    fig.colorbar(cax)\n",
        "\n",
        "    # Set up axes\n",
        "    ax.set_xticklabels([''] + input_sentence.split(' ') +\n",
        "                       ['<EOS>'], rotation=90)\n",
        "    ax.set_yticklabels([''] + output_words)\n",
        "\n",
        "    # Show label at every tick\n",
        "    ax.xaxis.set_major_locator(ticker.MultipleLocator(1))\n",
        "    ax.yaxis.set_major_locator(ticker.MultipleLocator(1))\n",
        "\n",
        "    plt.show()\n",
        "\n",
        "def evaluateRandomly_and_plot(encoder, decoder, n=1, return_sentences=False):\n",
        "    return_senetences = []\n",
        "    for i in range(n):\n",
        "        pair = random.choice(pairs)\n",
        "        output_words, attention_scores= evaluate(encoder, decoder, pair[0], input_lang, output_lang)\n",
        "        output_sentence = ' '.join(output_words)\n",
        "        return_senetences.append((pair[0], pair[1], output_sentence))\n",
        "        print(pair)\n",
        "        print(output_sentence)\n",
        "        print(attention_scores)\n",
        "        # showAttention(pair[1], pair[2], attention_scores)\n",
        "    if return_sentences:\n",
        "        return return_senetences\n",
        "\n",
        "evaluateRandomly_and_plot(encoder, decoder, n=5, return_sentences=False)\n"
      ]
    },
    {
      "cell_type": "code",
      "source": [
        "import matplotlib.pyplot as plt\n",
        "import matplotlib.ticker as ticker\n",
        "import torch\n",
        "import numpy as np\n",
        "import random\n",
        "import matplotlib.pyplot as plt\n",
        "import matplotlib.ticker as ticker\n",
        "import torch\n",
        "import numpy as np\n",
        "import random\n",
        "from IPython.display import display  # Explicitly import display for Colab\n",
        "%matplotlib inline\n",
        "\n",
        "def showAttention(input_sentence, output_words, attentions):\n",
        "    attentions = attentions.squeeze(0).cpu().numpy()  # Remove batch dimension\n",
        "\n",
        "    # Ensure input_tokens and output_tokens match attention dimensions\n",
        "    input_tokens = input_sentence.split(' ') + ['<EOS>']\n",
        "    output_tokens = output_words\n",
        "    min_length = min(len(output_words), len(input_tokens))\n",
        "    input_tokens = input_tokens[:min_length]\n",
        "    output_tokens = output_tokens[:min_length]\n",
        "\n",
        "    # Ensure output_tokens contains '<EOS\n",
        "    # if output_tokens != ['<EOS>']:\n",
        "    #     output_tokens.append('<EOS>')\n",
        "\n",
        "    if attentions.shape != (len(output_tokens), len(input_tokens)):\n",
        "        print(f\"Warning: Mismatch in attention shape {attentions.shape} vs. input ({len(input_tokens)}) & output ({len(output_tokens)}) tokens\")\n",
        "        return  # Avoid crashing\n",
        "\n",
        "    fig, ax = plt.subplots(figsize=(8, 6))\n",
        "    cax = ax.matshow(attentions, cmap='bone')\n",
        "    fig.colorbar(cax)\n",
        "\n",
        "    # Set up axes correctly\n",
        "    ax.set_xticks(range(len(input_tokens)))\n",
        "    ax.set_xticklabels(input_tokens[::-1], rotation=90)\n",
        "\n",
        "    ax.set_yticks(range(len(output_tokens)))\n",
        "    ax.set_yticklabels(output_tokens)\n",
        "\n",
        "    # Improve layout\n",
        "    ax.xaxis.set_major_locator(ticker.MultipleLocator(1))\n",
        "    ax.yaxis.set_major_locator(ticker.MultipleLocator(1))\n",
        "\n",
        "    plt.xlabel('Input Sentence (Hebrew)')\n",
        "    plt.ylabel('Output Sentence (English)')\n",
        "    plt.title('Attention Heatmap')\n",
        "    plt.show()\n",
        "    display(fig)  # <-- This is needed for Google Colab\n",
        "    plt.close(fig)  # <-- Prevents duplicate empty figures in Colab\n",
        "\n",
        "\n",
        "def evaluateRandomly_and_plot(encoder, decoder, n=1, return_sentences=False):\n",
        "    return_sentences = []\n",
        "\n",
        "    for i in range(n):\n",
        "        pair = random.choice(pairs)  # Select a random sentence pair\n",
        "        input_sentence = pair[0]  # Hebrew input\n",
        "        target_sentence = pair[1]  # Target English sentence\n",
        "\n",
        "        output_words, attention_scores = evaluate(encoder, decoder, input_sentence, input_lang, output_lang)\n",
        "        output_sentence = ' '.join(output_words)\n",
        "\n",
        "        return_sentences.append((input_sentence, target_sentence, output_sentence))\n",
        "\n",
        "        print(f\"Input: {input_sentence}\")\n",
        "        print(f\"Target: {target_sentence}\")\n",
        "        print(f\"Output: {output_sentence}\")\n",
        "        print(f\"Attention Shape: {attention_scores.shape}\")  # Debugging\n",
        "\n",
        "        showAttention(target_sentence,output_words ,attention_scores)  # Fix argument order\n",
        "\n",
        "    if return_sentences:\n",
        "        return return_sentences\n",
        "\n",
        "# Run with n=1 sample\n",
        "evaluateRandomly_and_plot(encoder, decoder, n=10, return_sentences=False)\n"
      ],
      "metadata": {
        "colab": {
          "base_uri": "https://localhost:8080/"
        },
        "id": "Nsu0_4WcM15J",
        "outputId": "12e0cdca-65e3-4d87-b226-8a61b14dc935"
      },
      "execution_count": 223,
      "outputs": [
        {
          "output_type": "stream",
          "name": "stdout",
          "text": [
            "Input: הוא נעדר בשל מחלתו\n",
            "Target: he is absent because of illness\n",
            "Output: he is absent because of his books absent from school\n",
            "Attention Shape: torch.Size([1, 10, 5])\n",
            "Warning: Mismatch in attention shape (10, 5) vs. input (7) & output (7) tokens\n",
            "Input: היא השליח\n",
            "Target: she is the messenger\n",
            "Output: she is the messenger <EOS>\n",
            "Attention Shape: torch.Size([1, 10, 3])\n",
            "Warning: Mismatch in attention shape (10, 3) vs. input (5) & output (5) tokens\n",
            "Input: את תמיד מתלוננת\n",
            "Target: you are always complaining\n",
            "Output: you are always complaining me <EOS>\n",
            "Attention Shape: torch.Size([1, 10, 4])\n",
            "Warning: Mismatch in attention shape (10, 4) vs. input (5) & output (5) tokens\n",
            "Input: היא תמיד עסוקה\n",
            "Target: she is always busy\n",
            "Output: she is always busy cooking now <EOS>\n",
            "Attention Shape: torch.Size([1, 10, 4])\n",
            "Warning: Mismatch in attention shape (10, 4) vs. input (5) & output (5) tokens\n",
            "Input: היא בדיאטה\n",
            "Target: she is on a diet\n",
            "Output: she is on a diet <EOS>\n",
            "Attention Shape: torch.Size([1, 10, 3])\n",
            "Warning: Mismatch in attention shape (10, 3) vs. input (6) & output (6) tokens\n",
            "Input: אתה לבן כמו סיד\n",
            "Target: you are as white as a sheet\n",
            "Output: you are as white as white as white as white\n",
            "Attention Shape: torch.Size([1, 10, 5])\n",
            "Warning: Mismatch in attention shape (10, 5) vs. input (8) & output (8) tokens\n",
            "Input: אני יכול לקרוא אנגלית\n",
            "Target: i am able to read english\n",
            "Output: i am familiar next year year next year next year\n",
            "Attention Shape: torch.Size([1, 10, 5])\n",
            "Warning: Mismatch in attention shape (10, 5) vs. input (7) & output (7) tokens\n",
            "Input: אנחנו הבנים שלו\n",
            "Target: we are his sons\n",
            "Output: he is his his sons love by his employees his\n",
            "Attention Shape: torch.Size([1, 10, 4])\n",
            "Warning: Mismatch in attention shape (10, 4) vs. input (5) & output (5) tokens\n",
            "Input: אני חובבת מוסיקה\n",
            "Target: i am fond of music\n",
            "Output: i am fond of music <EOS>\n",
            "Attention Shape: torch.Size([1, 10, 4])\n",
            "Warning: Mismatch in attention shape (10, 4) vs. input (6) & output (6) tokens\n",
            "Input: אני התובע במשפט ההוא\n",
            "Target: i am the plaintiff in that trial\n",
            "Output: i am the plaintiff in that trial that trial that\n",
            "Attention Shape: torch.Size([1, 10, 5])\n",
            "Warning: Mismatch in attention shape (10, 5) vs. input (8) & output (8) tokens\n"
          ]
        },
        {
          "output_type": "execute_result",
          "data": {
            "text/plain": [
              "[('הוא נעדר בשל מחלתו',\n",
              "  'he is absent because of illness',\n",
              "  'he is absent because of his books absent from school'),\n",
              " ('היא השליח', 'she is the messenger', 'she is the messenger <EOS>'),\n",
              " ('את תמיד מתלוננת',\n",
              "  'you are always complaining',\n",
              "  'you are always complaining me <EOS>'),\n",
              " ('היא תמיד עסוקה',\n",
              "  'she is always busy',\n",
              "  'she is always busy cooking now <EOS>'),\n",
              " ('היא בדיאטה', 'she is on a diet', 'she is on a diet <EOS>'),\n",
              " ('אתה לבן כמו סיד',\n",
              "  'you are as white as a sheet',\n",
              "  'you are as white as white as white as white'),\n",
              " ('אני יכול לקרוא אנגלית',\n",
              "  'i am able to read english',\n",
              "  'i am familiar next year year next year next year'),\n",
              " ('אנחנו הבנים שלו',\n",
              "  'we are his sons',\n",
              "  'he is his his sons love by his employees his'),\n",
              " ('אני חובבת מוסיקה', 'i am fond of music', 'i am fond of music <EOS>'),\n",
              " ('אני התובע במשפט ההוא',\n",
              "  'i am the plaintiff in that trial',\n",
              "  'i am the plaintiff in that trial that trial that')]"
            ]
          },
          "metadata": {},
          "execution_count": 223
        }
      ]
    },
    {
      "cell_type": "code",
      "source": [
        "import matplotlib.pyplot as plt\n",
        "import matplotlib.ticker as ticker\n",
        "import torch\n",
        "import numpy as np\n",
        "import random\n",
        "from IPython.display import display  # Explicitly import display for Colab\n",
        "\n",
        "def showAttention(input_sentence, output_words, attentions):\n",
        "    attentions = attentions.squeeze(0).cpu().numpy()  # Remove batch dimension\n",
        "\n",
        "    # Ensure input_tokens and output_tokens match attention dimensions\n",
        "    input_tokens = input_sentence.split(' ') + ['<EOS>']\n",
        "    output_tokens = output_words  # Use predicted output, not the target\n",
        "\n",
        "    # Verify and adjust lengths to match attention matrix\n",
        "    expected_input_len = attentions.shape[1]\n",
        "    expected_output_len = attentions.shape[0]\n",
        "\n",
        "    # if len(input_tokens) != expected_input_len:\n",
        "    #     print(f\"Adjusting input tokens from {len(input_tokens)} to {expected_input_len}\")\n",
        "    #     input_tokens = input_tokens[:expected_input_len]\n",
        "\n",
        "    # if len(output_tokens) != expected_output_len:\n",
        "    #     print(f\"Adjusting output tokens from {len(output_tokens)} to {expected_output_len}\")\n",
        "    #     output_tokens = output_tokens[:expected_output_len]\n",
        "\n",
        "    # if attentions.shape != (len(output_tokens), len(input_tokens)):\n",
        "    #     print(f\"Error: Final mismatch in attention shape {attentions.shape} vs. input ({len(input_tokens)}) & output ({len(output_tokens)}) tokens\")\n",
        "    #     return  # Avoid crashing\n",
        "\n",
        "    fig, ax = plt.subplots(figsize=(3, 3))\n",
        "    cax = ax.matshow(attentions, cmap='bone')\n",
        "    fig.colorbar(cax)\n",
        "    # Transpose the attention matrix for correct orientation\n",
        "    cax = ax.matshow(attentions.T, cmap='coolwarm')\n",
        "\n",
        "    # Set tick positions correctly\n",
        "    ax.set_xticks(range(len(output_tokens)))\n",
        "    ax.set_xticklabels(output_tokens, rotation=90, ha='center')  # English output on x-axis\n",
        "\n",
        "    ax.set_yticks(range(len(input_tokens)))\n",
        "    ax.set_yticklabels([word[::-1] for word in input_tokens])  # Hebrew input (right-to-left)\n",
        "\n",
        "    # Ensure only 1 set of ticks is applied\n",
        "    ax.xaxis.set_major_locator(ticker.FixedLocator(range(len(output_tokens))))\n",
        "    ax.yaxis.set_major_locator(ticker.FixedLocator(range(len(input_tokens))))\n",
        "\n",
        "    plt.xlabel('Output Sentence (English)')\n",
        "    plt.ylabel('Input Sentence (Hebrew)')\n",
        "\n",
        "    # # Set up axes correctly\n",
        "    # ax.set_xticks(range(len(input_tokens)))\n",
        "    # ax.set_xticklabels(input_tokens, rotation=90)\n",
        "\n",
        "    # ax.set_yticks(range(len(output_tokens)))\n",
        "    # ax.set_yticklabels(output_tokens)\n",
        "\n",
        "    # # Improve layout\n",
        "    # ax.xaxis.set_major_locator(ticker.MultipleLocator(1))\n",
        "    # ax.yaxis.set_major_locator(ticker.MultipleLocator(1))\n",
        "    # input_ticks= [word[::-1] for word in input_tokens ]\n",
        "    # ax.set_xticklabels(input_ticks, rotation=90, ) #ha='left')\n",
        "\n",
        "    # # Set color map to 'coolwarm' for better contrast\n",
        "    # cax = ax.matshow(attentions, cmap='coolwarm')\n",
        "    plt.xlabel('Input Sentence (Hebrew)')\n",
        "    plt.ylabel('Output Sentence (English)')\n",
        "    plt.title('Attention Heatmap')\n",
        "\n",
        "\n",
        "    display(fig)  # Explicitly display in Google Colab\n",
        "    # plt.show()\n",
        "    plt.close(fig)  # Prevent duplicate figures\n",
        "\n",
        "\n",
        "def evaluateRandomly_and_plot(encoder, decoder, n=1, return_sentences=False):\n",
        "    return_sentences = []\n",
        "\n",
        "    for i in range(n):\n",
        "        pair = random.choice(pairs)  # Select a random sentence pair\n",
        "        input_sentence = pair[0]  # Hebrew input\n",
        "        target_sentence = pair[1]  # Target English sentence\n",
        "\n",
        "        output_words, attention_scores = evaluate(encoder, decoder, input_sentence, input_lang, output_lang)\n",
        "        output_sentence = ' '.join(output_words)\n",
        "\n",
        "        return_sentences.append((input_sentence, target_sentence, output_sentence))\n",
        "\n",
        "        print(f\"Input: {input_sentence}\")\n",
        "        print(f\"Target: {target_sentence}\")\n",
        "        print(f\"Output: {output_sentence}\")\n",
        "        print(f\"Attention Shape: {attention_scores.shape}\")  # Debugging\n",
        "\n",
        "        showAttention(input_sentence, output_words, attention_scores)  # Fix argument order\n",
        "\n",
        "    if return_sentences:\n",
        "        return return_sentences\n",
        "\n",
        "# Run with n=1 sample\n",
        "evaluateRandomly_and_plot(encoder, decoder, n=5, return_sentences=False)\n"
      ],
      "metadata": {
        "colab": {
          "base_uri": "https://localhost:8080/",
          "height": 1000
        },
        "id": "ZTMh9abeRgJ2",
        "outputId": "b987f96a-e67e-4c55-aa5e-6602632ba485"
      },
      "execution_count": 238,
      "outputs": [
        {
          "output_type": "stream",
          "name": "stdout",
          "text": [
            "Input: הביקורת שלו גומזת\n",
            "Target: he is a harsh critic\n",
            "Output: he is a harsh critic man <EOS>\n",
            "Attention Shape: torch.Size([1, 10, 4])\n"
          ]
        },
        {
          "output_type": "display_data",
          "data": {
            "text/plain": [
              "<Figure size 300x300 with 2 Axes>"
            ],
            "image/png": "[encoded data removed]"
          },
          "metadata": {}
        },
        {
          "output_type": "stream",
          "name": "stdout",
          "text": [
            "Input: היא מפורסמת\n",
            "Target: she is widely known\n",
            "Output: she is widely known <EOS>\n",
            "Attention Shape: torch.Size([1, 10, 3])\n"
          ]
        },
        {
          "output_type": "display_data",
          "data": {
            "text/plain": [
              "<Figure size 300x300 with 2 Axes>"
            ],
            "image/png": "[encoded data removed]"
          },
          "metadata": {}
        },
        {
          "output_type": "stream",
          "name": "stdout",
          "text": [
            "Input: היא ילדה ותו לא\n",
            "Target: she is a mere child\n",
            "Output: she is a mere child <EOS>\n",
            "Attention Shape: torch.Size([1, 10, 5])\n"
          ]
        },
        {
          "output_type": "display_data",
          "data": {
            "text/plain": [
              "<Figure size 300x300 with 2 Axes>"
            ],
            "image/png": "[encoded data removed]"
          },
          "metadata": {}
        },
        {
          "output_type": "stream",
          "name": "stdout",
          "text": [
            "Input: הם מרוצים מהחוזה\n",
            "Target: they are satisfied with the contract\n",
            "Output: they are satisfied with the contract number me for payment\n",
            "Attention Shape: torch.Size([1, 10, 4])\n"
          ]
        },
        {
          "output_type": "display_data",
          "data": {
            "text/plain": [
              "<Figure size 300x300 with 2 Axes>"
            ],
            "image/png": "[encoded data removed]"
          },
          "metadata": {}
        },
        {
          "output_type": "stream",
          "name": "stdout",
          "text": [
            "Input: היא לא שם\n",
            "Target: she isnt there\n",
            "Output: she isnt there <EOS>\n",
            "Attention Shape: torch.Size([1, 10, 4])\n"
          ]
        },
        {
          "output_type": "display_data",
          "data": {
            "text/plain": [
              "<Figure size 300x300 with 2 Axes>"
            ],
            "image/png": "[encoded data removed]"
          },
          "metadata": {}
        },
        {
          "output_type": "execute_result",
          "data": {
            "text/plain": [
              "[('הביקורת שלו גומזת',\n",
              "  'he is a harsh critic',\n",
              "  'he is a harsh critic man <EOS>'),\n",
              " ('היא מפורסמת', 'she is widely known', 'she is widely known <EOS>'),\n",
              " ('היא ילדה ותו לא', 'she is a mere child', 'she is a mere child <EOS>'),\n",
              " ('הם מרוצים מהחוזה',\n",
              "  'they are satisfied with the contract',\n",
              "  'they are satisfied with the contract number me for payment'),\n",
              " ('היא לא שם', 'she isnt there', 'she isnt there <EOS>')]"
            ]
          },
          "metadata": {},
          "execution_count": 238
        }
      ]
    },
    {
      "cell_type": "code",
      "source": [
        "evaluateRandomly_and_plot(encoder, decoder, n=1, return_sentences=False)\n"
      ],
      "metadata": {
        "colab": {
          "base_uri": "https://localhost:8080/"
        },
        "id": "NazTkuPEO9br",
        "outputId": "355791a1-682b-43d1-a20a-b513e154ddec"
      },
      "execution_count": 209,
      "outputs": [
        {
          "output_type": "stream",
          "name": "stdout",
          "text": [
            "Input: אני הולך\n",
            "Target: i am going\n",
            "Output: i am all <EOS>\n",
            "Attention Shape: torch.Size([1, 10, 3])\n",
            "Warning: Mismatch in attention shape (10, 3) vs. input (3) & output (4) tokens\n"
          ]
        },
        {
          "output_type": "execute_result",
          "data": {
            "text/plain": [
              "[('אני הולך', 'i am going', 'i am all <EOS>')]"
            ]
          },
          "metadata": {},
          "execution_count": 209
        }
      ]
    },
    {
      "cell_type": "code",
      "source": [
        "import matplotlib.pyplot as plt\n",
        "import matplotlib.ticker as ticker\n",
        "import torch\n",
        "\n",
        "\n",
        "evaluateRandomly_and_plot(encoder, decoder, n=1, return_sentences=False)\n"
      ],
      "metadata": {
        "colab": {
          "base_uri": "https://localhost:8080/"
        },
        "id": "5wiqqpFjNYJY",
        "outputId": "e27234bd-d9ae-4040-ca8e-a8869c571e77"
      },
      "execution_count": 197,
      "outputs": [
        {
          "output_type": "stream",
          "name": "stdout",
          "text": [
            "Input: אין לנו זמן רב תום\n",
            "Target: we are short of time tom\n",
            "Output: we are short of time tom <EOS>\n",
            "Attention Shape: torch.Size([1, 10, 6])\n"
          ]
        }
      ]
    },
    {
      "cell_type": "markdown",
      "source": [
        "## changes:\n"
      ],
      "metadata": {
        "id": "PxywWyhSWaAI"
      }
    },
    {
      "cell_type": "code",
      "source": [
        "hidden_size = 248\n",
        "batch_size = 16\n",
        "\n",
        "input_lang, output_lang, train_dataloader = get_dataloader(batch_size)\n",
        "\n",
        "encoder = EncoderRNN(input_lang.n_words, hidden_size).to(device)\n",
        "decoder = AttnDecoderRNN(hidden_size, output_lang.n_words).to(device)\n",
        "\n",
        "train(train_dataloader, encoder, decoder, 90, print_every=5, plot_every=5)"
      ],
      "metadata": {
        "colab": {
          "base_uri": "https://localhost:8080/",
          "height": 1000
        },
        "id": "YqP-1CuUWbMn",
        "outputId": "0097550e-713c-46fd-a564-cd2aa9fa7b89"
      },
      "execution_count": 239,
      "outputs": [
        {
          "output_type": "stream",
          "name": "stdout",
          "text": [
            "Reading lines...\n",
            "initially the lines are ['Go\\tלך', 'Hi\\tהיי', 'Hi\\tאהלן', 'Run\\tרוץ', 'Run\\tרוצי', 'Run\\tרוצו', 'Who\\tמי', 'Wow\\tוואו', 'Wow\\tואו', 'Duck\\tתתכופפי']\n",
            "data/eng-heb.txt\n",
            "this is the normalizeString:\n",
            "go\n",
            "לך\n",
            "hi\n",
            "היי\n",
            "hi\n",
            "אהלן\n",
            "run\n",
            "רוץ\n",
            "run\n",
            "רוצי\n",
            "run\n",
            "רוצו\n",
            "who\n",
            "מי\n",
            "wow\n",
            "וואו\n",
            "wow\n",
            "ואו\n",
            "duck\n",
            "תתכופפי\n",
            "sample of pairs [['she cant have written it herself', 'לא ייתכן שהיא כתבה זאת בעצמה'], ['i was deeply impressed by roman architecture', 'התרשמתי עמוקות מהארכיטקטורה הרומאית'], ['it is impossible to put the plan into practice', 'אי אפשר לממש את התכנית'], ['listen carefully to what im going to tell you', 'הקשב היטב למה שאגיד לך'], ['i dont care what she eats', 'לא איכפת לי מה היא אוכלת'], ['he was born dumb', 'הוא נולד אילם'], ['tom is laughing at mary', 'תום צוחק על מרי'], ['whats your favorite way to cook beans', 'מה הדרך בה אתה מעדיף לבשל שעועית'], ['i keep a diary in english', 'אני מנהל יומן באנגלית'], ['to the best of my knowledge no', 'למיטב ידיעתי לא']]\n",
            "sample of pairs - reversed! [['תן לי לדבר', 'let me speak'], ['הספרייה עומדת להיסגר', 'the library is closing'], ['האם זו הייתה שאלתך', 'was that your question'], ['אני זקוקה להתרגעות', 'i need to relax'], ['אני אובייקטיבי', 'im objective'], ['תום שותק', 'toms silent'], ['המקטורן והעניבה שלך לא תואמים', 'your jacket and tie dont go together'], ['טום ברח מהבית', 'tom ran away from home'], ['איפה אוכל לאסוף את הכרטיס שלי', 'where can i pick up my ticket'], ['לו רציתי הייתי יכולה לעשות זאת', 'if i wanted to i could do that']]\n",
            "Read 128133 sentence pairs\n",
            "pair at 0 before filter לך pair at 1 go\n",
            "pair at 0 before filter היי pair at 1 hi\n",
            "pair at 0 before filter אהלן pair at 1 hi\n",
            "pair at 0 before filter רוץ pair at 1 run\n",
            "the length is 1718\n",
            "Trimmed to 1718 sentence pairs\n",
            "Counting words...\n",
            "pair at 0 is אני תום pair at 1 i am tom\n",
            "pair at 0 is אני זקן pair at 1 i am old\n",
            "pair at 0 is הוא זקן pair at 1 he is old\n",
            "pair at 0 is קר לי pair at 1 i am cold\n",
            "Counted words:\n",
            "heb 2109\n",
            "eng 1280\n",
            "0m 12s (- 3m 37s) (5 5%) 1.7139\n",
            "0m 25s (- 3m 24s) (10 11%) 0.6104\n",
            "0m 38s (- 3m 10s) (15 16%) 0.1613\n",
            "0m 51s (- 2m 58s) (20 22%) 0.0373\n",
            "1m 3s (- 2m 45s) (25 27%) 0.0187\n",
            "1m 16s (- 2m 32s) (30 33%) 0.0163\n",
            "1m 29s (- 2m 20s) (35 38%) 0.0108\n",
            "1m 42s (- 2m 7s) (40 44%) 0.0082\n",
            "1m 54s (- 1m 54s) (45 50%) 0.0073\n",
            "2m 7s (- 1m 42s) (50 55%) 0.0095\n",
            "2m 20s (- 1m 29s) (55 61%) 0.0358\n",
            "2m 33s (- 1m 16s) (60 66%) 0.0075\n",
            "2m 45s (- 1m 3s) (65 72%) 0.0062\n",
            "2m 58s (- 0m 50s) (70 77%) 0.0056\n",
            "3m 11s (- 0m 38s) (75 83%) 0.0058\n",
            "3m 23s (- 0m 25s) (80 88%) 0.0058\n",
            "3m 36s (- 0m 12s) (85 94%) 0.0084\n",
            "3m 48s (- 0m 0s) (90 100%) 0.0280\n"
          ]
        },
        {
          "output_type": "display_data",
          "data": {
            "text/plain": [
              "<Figure size 640x480 with 0 Axes>"
            ]
          },
          "metadata": {}
        },
        {
          "output_type": "display_data",
          "data": {
            "text/plain": [
              "<Figure size 640x480 with 1 Axes>"
            ],
            "image/png": "[encoded data removed]"
          },
          "metadata": {}
        }
      ]
    }
  ],
  "metadata": {
    "kernelspec": {
      "display_name": "Python 3",
      "name": "python3"
    },
    "language_info": {
      "codemirror_mode": {
        "name": "ipython",
        "version": 3
      },
      "file_extension": ".py",
      "mimetype": "text/x-python",
      "name": "python",
      "nbconvert_exporter": "python",
      "pygments_lexer": "ipython3",
      "version": "3.10.12"
    },
    "colab": {
      "provenance": [],
      "toc_visible": true,
      "machine_shape": "hm",
      "gpuType": "T4",
      "include_colab_link": true
    },
    "accelerator": "GPU"
  },
  "nbformat": 4,
  "nbformat_minor": 0
}